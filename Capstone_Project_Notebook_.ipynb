{
 "cells": [
  {
   "cell_type": "markdown",
   "metadata": {},
   "source": [
    "#         IBM Data Science Professional Certificate Capstone Project \n",
    "\n",
    "#                              The Battle of Neighborhoods"
   ]
  },
  {
   "cell_type": "markdown",
   "metadata": {},
   "source": [
    "## Introduction: Business Problem <a name=\"introduction\"></a>"
   ]
  },
  {
   "cell_type": "markdown",
   "metadata": {},
   "source": [
    "With a population of approximately 15 million people in the metropolitan area, Istanbul is one of the world's fourteenth largest city and one of the most populous cities in the world.\n",
    "\n",
    "Despite such a crowded city, vegetarian or vegan individuals may find it difficult to find vegetarian or vegan restaurants in Istanbul. Turkish food culture is predominantly meat and meat products. For this reason, vegetarianism and veganism have not yet played an important role in Turkish culture.\n",
    "    \n",
    "In this project, 38 districts of Istanbul and vegetarian and vegan restaurants were found within 1km (thought to be walking distance) from the center. At the same time, a clustering analysis was performed with k-means by using the populations of the districts of Istanbul and the information of the restaurants in these districts.\n",
    "\n",
    "The questions we want to answer at the end of the project are:\n",
    "- Which districts in Istanbul have vegetarian or vegan restaurants?\n",
    "- What are the number of restaurants by district?\n",
    "- What are the popular districts for someone who wants to open a new restaurant, taking into account district populations and restaurant numbers?"
   ]
  },
  {
   "cell_type": "markdown",
   "metadata": {},
   "source": [
    "## Data <a name=\"data\"></a>"
   ]
  },
  {
   "cell_type": "markdown",
   "metadata": {},
   "source": [
    "Based on definition of our problem, factors that will influence our decission are:\n",
    "* number of existing restaurants in the borough (vegetarian or vegan)\n",
    "* population of borough\n",
    "* which boroughs have restaurants \n",
    "\n",
    "Following data sources will be needed to extract/generate the required information:\n",
    "\n",
    "The dataset which can be reached at https://geo.nyu.edu/catalog/stanford-nj696zj1674, contains all the cities and borough lists of Turkey and information on the location of these cities and towns. \n",
    "\n",
    "Total population, female and male population percentages data of all these boroughs to the boroughs data. We can access the population data for 2018 borougs at https://www.nufusu.com/ilceleri/istanbul-ilceleri-nufusu.\n",
    "\n",
    "\n"
   ]
  },
  {
   "cell_type": "markdown",
   "metadata": {},
   "source": [
    "- Using <b>Geopy</b> web service, location information of Istanbul was obtained\n",
    "- <b>Folium</b> and districts of Istanbul, restaurants in districts and clusters obtained as a result of k-means are shown on the map\n",
    "- Population information was obtained from the website with <b>BeautifulSoup</b>\n",
    "- Restaurant information around coordinates determined with <b>GoogleMaps Place API</b>"
   ]
  },
  {
   "cell_type": "code",
   "execution_count": 1,
   "metadata": {},
   "outputs": [],
   "source": [
    "# import all libraries and packages\n",
    "\n",
    "import pandas as pd\n",
    "import numpy as np\n",
    "\n",
    "import json\n",
    "from pandas.io.json import json_normalize\n",
    "\n",
    "from geopy.geocoders import Nominatim # convert an address into latitude and longitude values\n",
    "\n",
    "import folium\n",
    "\n",
    "import requests\n",
    "\n",
    "from bs4 import BeautifulSoup\n",
    "\n",
    "from unidecode import unidecode\n",
    "\n",
    "import matplotlib.pyplot as plt\n",
    "import matplotlib.cm as cm\n",
    "import matplotlib.colors as colors\n",
    "\n",
    "from sklearn.cluster import KMeans\n",
    "from sklearn.preprocessing import StandardScaler"
   ]
  },
  {
   "cell_type": "markdown",
   "metadata": {},
   "source": [
    "\n",
    "The codes that will be used for the GoogleMaps API and Foursuare API that we will use in the project are defined below.\n"
   ]
  },
  {
   "cell_type": "code",
   "execution_count": 2,
   "metadata": {},
   "outputs": [],
   "source": [
    "# Google API key\n",
    "\n",
    "google_api_key =  # your Google API Key"
   ]
  },
  {
   "cell_type": "code",
   "execution_count": 3,
   "metadata": {},
   "outputs": [],
   "source": [
    "# Foursquare CLIENT_ID and CLIENT_SECRET\n",
    "\n",
    "CLIENT_ID =  # your Foursquare ID\n",
    "CLIENT_SECRET =  # your Foursquare Secret\n",
    "VERSION = '20180605' # Foursquare API version"
   ]
  },
  {
   "cell_type": "markdown",
   "metadata": {},
   "source": [
    "\n",
    "## Get borough, latitude and longitude values for Istanbul\n"
   ]
  },
  {
   "cell_type": "markdown",
   "metadata": {},
   "source": [
    "\n",
    "The dataset which can be reached at https://geo.nyu.edu/catalog/stanford-nj696zj1674, contains all the cities and borough lists of Turkey and information on the location of these cities and towns. I have obtained only the data of Istanbul and its boroughs from this dataset using the codes below.\n"
   ]
  },
  {
   "cell_type": "code",
   "execution_count": 4,
   "metadata": {},
   "outputs": [],
   "source": [
    "with open('stanford-nj696zj1674-geojson.json') as json_file:\n",
    "    data = json.load(json_file)"
   ]
  },
  {
   "cell_type": "code",
   "execution_count": 5,
   "metadata": {},
   "outputs": [],
   "source": [
    "locations = data['features']"
   ]
  },
  {
   "cell_type": "code",
   "execution_count": 6,
   "metadata": {},
   "outputs": [],
   "source": [
    "column_names = [ 'Borough', 'Latitude', 'Longitude' ]\n",
    "ist_data=pd.DataFrame(columns=column_names)\n",
    "\n",
    "for each in locations:\n",
    "    if each['properties']['name_1'] == 'Istanbul':\n",
    "#        mah = each['geometry']['coordinates'][0][0]\n",
    "        ilce = each['properties']['name_2']\n",
    "#        il = each['properties']['name_1']\n",
    "        long = (each['properties']['bbox'][0] + each['properties']['bbox'][2]) / 2 \n",
    "        lat = (each['properties']['bbox'][1] + each['properties']['bbox'][3]) / 2 \n",
    "        \n",
    "        \n",
    "        ist_data = ist_data.append({ 'Borough': ilce, 'Latitude':lat, 'Longitude':long},\n",
    "                                    ignore_index=True)"
   ]
  },
  {
   "cell_type": "code",
   "execution_count": 7,
   "metadata": {},
   "outputs": [],
   "source": [
    "def replace_wrong_ch(df):\n",
    "    \n",
    "    new = df.replace(to_replace =\"Çekmekoy\", value =\"Çekmeköy\") \n",
    "    new = new.replace(to_replace =\"Arnavutkoy\", value =\"Arnavutköy\") \n",
    "    new = new.replace(to_replace =\"Atasehir\", value =\"Ataşehir\") \n",
    "    new = new.replace(to_replace =\"Basaksehir\", value =\"Başakşehir\")\n",
    "    new = new.replace(to_replace =\"Beylikduzu\", value =\"Beylikdüzü\")\n",
    "    new = new.replace(to_replace =\"Eyüp\", value =\"Eyüpsultan\") \n",
    "    \n",
    "    return new"
   ]
  },
  {
   "cell_type": "code",
   "execution_count": 8,
   "metadata": {},
   "outputs": [],
   "source": [
    "ist_data = replace_wrong_ch(ist_data)"
   ]
  },
  {
   "cell_type": "code",
   "execution_count": 9,
   "metadata": {},
   "outputs": [
    {
     "name": "stdout",
     "output_type": "stream",
     "text": [
      "Istanbul has 38 boroughs, so shape of ist_data is (38, 3).\n"
     ]
    }
   ],
   "source": [
    "ist_data.shape\n",
    "print('Istanbul has 38 boroughs, so shape of ist_data is {}.'.format(ist_data.shape))"
   ]
  },
  {
   "cell_type": "code",
   "execution_count": 10,
   "metadata": {},
   "outputs": [
    {
     "data": {
      "text/html": [
       "<div>\n",
       "<style scoped>\n",
       "    .dataframe tbody tr th:only-of-type {\n",
       "        vertical-align: middle;\n",
       "    }\n",
       "\n",
       "    .dataframe tbody tr th {\n",
       "        vertical-align: top;\n",
       "    }\n",
       "\n",
       "    .dataframe thead th {\n",
       "        text-align: right;\n",
       "    }\n",
       "</style>\n",
       "<table border=\"1\" class=\"dataframe\">\n",
       "  <thead>\n",
       "    <tr style=\"text-align: right;\">\n",
       "      <th></th>\n",
       "      <th>Borough</th>\n",
       "      <th>Latitude</th>\n",
       "      <th>Longitude</th>\n",
       "    </tr>\n",
       "  </thead>\n",
       "  <tbody>\n",
       "    <tr>\n",
       "      <th>0</th>\n",
       "      <td>Çatalca</td>\n",
       "      <td>41.302761</td>\n",
       "      <td>28.384248</td>\n",
       "    </tr>\n",
       "    <tr>\n",
       "      <th>1</th>\n",
       "      <td>Çekmeköy</td>\n",
       "      <td>41.079035</td>\n",
       "      <td>29.260164</td>\n",
       "    </tr>\n",
       "    <tr>\n",
       "      <th>2</th>\n",
       "      <td>Adalar</td>\n",
       "      <td>40.866249</td>\n",
       "      <td>29.058751</td>\n",
       "    </tr>\n",
       "    <tr>\n",
       "      <th>3</th>\n",
       "      <td>Ümraniye</td>\n",
       "      <td>41.039030</td>\n",
       "      <td>29.129102</td>\n",
       "    </tr>\n",
       "    <tr>\n",
       "      <th>4</th>\n",
       "      <td>Üsküdar</td>\n",
       "      <td>41.157230</td>\n",
       "      <td>28.571349</td>\n",
       "    </tr>\n",
       "  </tbody>\n",
       "</table>\n",
       "</div>"
      ],
      "text/plain": [
       "    Borough   Latitude  Longitude\n",
       "0   Çatalca  41.302761  28.384248\n",
       "1  Çekmeköy  41.079035  29.260164\n",
       "2    Adalar  40.866249  29.058751\n",
       "3  Ümraniye  41.039030  29.129102\n",
       "4   Üsküdar  41.157230  28.571349"
      ]
     },
     "execution_count": 10,
     "metadata": {},
     "output_type": "execute_result"
    }
   ],
   "source": [
    "ist_data.head()"
   ]
  },
  {
   "cell_type": "markdown",
   "metadata": {},
   "source": [
    "\n",
    "## Get latitude and longitude values for Istanbul city center and create a map with all boroughs\n"
   ]
  },
  {
   "cell_type": "markdown",
   "metadata": {},
   "source": [
    "\n",
    "Using the Geopy web service, the location of Istanbul was obtained and then Folium and the districts of Istanbul were shown on the map.\n"
   ]
  },
  {
   "cell_type": "code",
   "execution_count": 11,
   "metadata": {},
   "outputs": [
    {
     "name": "stdout",
     "output_type": "stream",
     "text": [
      "The geograpical coordinate of Istanbul are 41.0096334, 28.9651646.\n"
     ]
    }
   ],
   "source": [
    "# get latitude and longitude for İstanbul\n",
    "\n",
    "from geopy.geocoders import Nominatim # convert an address into latitude and longitude values\n",
    "\n",
    "address = 'Istanbul'\n",
    "\n",
    "geolocator = Nominatim(user_agent=\"ist_explorer\")\n",
    "location = geolocator.geocode(address)\n",
    "latitude = location.latitude\n",
    "longitude = location.longitude\n",
    "print('The geograpical coordinate of Istanbul are {}, {}.'.format(latitude, longitude))"
   ]
  },
  {
   "cell_type": "code",
   "execution_count": 12,
   "metadata": {},
   "outputs": [
    {
     "data": {
      "text/html": [
       "<div style=\"width:100%;\"><div style=\"position:relative;width:100%;height:0;padding-bottom:60%;\"><iframe src=\"data:text/html;charset=utf-8;base64,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\" style=\"position:absolute;width:100%;height:100%;left:0;top:0;border:none !important;\" allowfullscreen webkitallowfullscreen mozallowfullscreen></iframe></div></div>"
      ],
      "text/plain": [
       "<folium.folium.Map at 0x7fa976e7ba58>"
      ]
     },
     "execution_count": 12,
     "metadata": {},
     "output_type": "execute_result"
    }
   ],
   "source": [
    "# create map of İstanbul using latitude and longitude values\n",
    "\n",
    "map_ist = folium.Map(location=[latitude, longitude], zoom_start=9)\n",
    "\n",
    "# add markers to map\n",
    "for borough, lat, lng in zip(ist_data['Borough'], ist_data['Latitude'], ist_data['Longitude']):\n",
    "    label = '{}'.format(borough)\n",
    "    label = folium.Popup(label, parse_html=True)\n",
    "    folium.CircleMarker(\n",
    "        [lat, lng],\n",
    "        radius=5,\n",
    "        popup=label,\n",
    "        color='purple',\n",
    "        fill=True,\n",
    "        fill_color='#3154bb',\n",
    "        fill_opacity=0.7,\n",
    "        parse_html=False).add_to(map_ist)  \n",
    "    \n",
    "map_ist"
   ]
  },
  {
   "cell_type": "markdown",
   "metadata": {},
   "source": [
    "\n",
    "\n",
    "## Add population data to İstanbul's boroughs data\n",
    "\n"
   ]
  },
  {
   "cell_type": "markdown",
   "metadata": {},
   "source": [
    "\n",
    "We can add the total population, female and male population percentages data of all these boroughs to the boroughs data. We can access the population data for 2018 borougs at https://www.nufusu.com/ilceleri/istanbul-ilceleri-nufusu.\n",
    "\n",
    "The BeautifulSoup library was used to extract the data from the linkspecified. Population data and the codes used to obtain this data are available below.\n"
   ]
  },
  {
   "cell_type": "code",
   "execution_count": 13,
   "metadata": {},
   "outputs": [],
   "source": [
    "# define the url\n",
    "website_url = requests.get(\"https://www.nufusu.com/ilceleri/istanbul-ilceleri-nufusu\").text\n",
    "\n",
    "soup = BeautifulSoup(website_url,\"lxml\")\n",
    "\n",
    "# get the table contains data\n",
    "table = soup.find(\"table\",{\"class\":\"pure-table pure-table-bordered pure-table-striped\"})\n",
    "table_rows = table.find_all('tr')\n",
    "\n",
    "# get all tha data from table rows\n",
    "res = []\n",
    "for tr in table_rows:\n",
    "    td = tr.find_all('td')\n",
    "    row = [tr.text.strip() for tr in td if tr.text.strip()]\n",
    "    if row:\n",
    "        res.append(row)\n",
    "        \n",
    "# create a dataframe includes all the data from res \n",
    "df = pd.DataFrame(res, columns=[\"Year\", \"Borough\", \"Population\", \"Male_Population\", \"Female_Population\", \"Male\", \"Female\"])\n",
    "\n",
    "# create a dataframe with the data to use\n",
    "population_data = df[[\"Borough\", \"Population\", \"Male\", \"Female\"]]"
   ]
  },
  {
   "cell_type": "code",
   "execution_count": 14,
   "metadata": {},
   "outputs": [
    {
     "name": "stdout",
     "output_type": "stream",
     "text": [
      "<class 'pandas.core.frame.DataFrame'>\n",
      "RangeIndex: 39 entries, 0 to 38\n",
      "Data columns (total 4 columns):\n",
      "Borough       39 non-null object\n",
      "Population    39 non-null object\n",
      "Male          39 non-null object\n",
      "Female        39 non-null object\n",
      "dtypes: object(4)\n",
      "memory usage: 1.3+ KB\n"
     ]
    }
   ],
   "source": [
    "population_data.info()"
   ]
  },
  {
   "cell_type": "code",
   "execution_count": 15,
   "metadata": {},
   "outputs": [
    {
     "name": "stderr",
     "output_type": "stream",
     "text": [
      "/home/funda/anaconda3/lib/python3.6/site-packages/ipykernel_launcher.py:1: SettingWithCopyWarning: \n",
      "A value is trying to be set on a copy of a slice from a DataFrame.\n",
      "Try using .loc[row_indexer,col_indexer] = value instead\n",
      "\n",
      "See the caveats in the documentation: http://pandas.pydata.org/pandas-docs/stable/indexing.html#indexing-view-versus-copy\n",
      "  \"\"\"Entry point for launching an IPython kernel.\n"
     ]
    }
   ],
   "source": [
    "population_data['Population'] = pd.to_numeric(population_data['Population'])"
   ]
  },
  {
   "cell_type": "code",
   "execution_count": 16,
   "metadata": {},
   "outputs": [
    {
     "data": {
      "text/html": [
       "<div>\n",
       "<style scoped>\n",
       "    .dataframe tbody tr th:only-of-type {\n",
       "        vertical-align: middle;\n",
       "    }\n",
       "\n",
       "    .dataframe tbody tr th {\n",
       "        vertical-align: top;\n",
       "    }\n",
       "\n",
       "    .dataframe thead th {\n",
       "        text-align: right;\n",
       "    }\n",
       "</style>\n",
       "<table border=\"1\" class=\"dataframe\">\n",
       "  <thead>\n",
       "    <tr style=\"text-align: right;\">\n",
       "      <th></th>\n",
       "      <th>Borough</th>\n",
       "      <th>Population</th>\n",
       "      <th>Male</th>\n",
       "      <th>Female</th>\n",
       "    </tr>\n",
       "  </thead>\n",
       "  <tbody>\n",
       "    <tr>\n",
       "      <th>0</th>\n",
       "      <td>Esenyurt</td>\n",
       "      <td>891.120</td>\n",
       "      <td>%51,23</td>\n",
       "      <td>%48,77</td>\n",
       "    </tr>\n",
       "    <tr>\n",
       "      <th>1</th>\n",
       "      <td>Küçükçekmece</td>\n",
       "      <td>770.317</td>\n",
       "      <td>%50,00</td>\n",
       "      <td>%50,00</td>\n",
       "    </tr>\n",
       "    <tr>\n",
       "      <th>2</th>\n",
       "      <td>Bağcılar</td>\n",
       "      <td>734.369</td>\n",
       "      <td>%50,70</td>\n",
       "      <td>%49,30</td>\n",
       "    </tr>\n",
       "    <tr>\n",
       "      <th>3</th>\n",
       "      <td>Pendik</td>\n",
       "      <td>693.599</td>\n",
       "      <td>%50,50</td>\n",
       "      <td>%49,50</td>\n",
       "    </tr>\n",
       "    <tr>\n",
       "      <th>4</th>\n",
       "      <td>Ümraniye</td>\n",
       "      <td>690.193</td>\n",
       "      <td>%50,06</td>\n",
       "      <td>%49,94</td>\n",
       "    </tr>\n",
       "  </tbody>\n",
       "</table>\n",
       "</div>"
      ],
      "text/plain": [
       "        Borough  Population    Male  Female\n",
       "0      Esenyurt     891.120  %51,23  %48,77\n",
       "1  Küçükçekmece     770.317  %50,00  %50,00\n",
       "2      Bağcılar     734.369  %50,70  %49,30\n",
       "3        Pendik     693.599  %50,50  %49,50\n",
       "4      Ümraniye     690.193  %50,06  %49,94"
      ]
     },
     "execution_count": 16,
     "metadata": {},
     "output_type": "execute_result"
    }
   ],
   "source": [
    "population_data.head()"
   ]
  },
  {
   "cell_type": "code",
   "execution_count": 17,
   "metadata": {},
   "outputs": [
    {
     "data": {
      "text/plain": [
       "(39, 4)"
      ]
     },
     "execution_count": 17,
     "metadata": {},
     "output_type": "execute_result"
    }
   ],
   "source": [
    "population_data.shape"
   ]
  },
  {
   "cell_type": "markdown",
   "metadata": {},
   "source": [
    "\n",
    "\n",
    "### Merge ist_data with population_data\n",
    "\n"
   ]
  },
  {
   "cell_type": "markdown",
   "metadata": {},
   "source": [
    "Ist_data contains data of Istanbul boroughs and population_data contains population were combined."
   ]
  },
  {
   "cell_type": "code",
   "execution_count": 18,
   "metadata": {},
   "outputs": [],
   "source": [
    "new_data = pd.merge(ist_data, population_data, on=\"Borough\", how='left')"
   ]
  },
  {
   "cell_type": "code",
   "execution_count": 19,
   "metadata": {},
   "outputs": [
    {
     "data": {
      "text/plain": [
       "(38, 6)"
      ]
     },
     "execution_count": 19,
     "metadata": {},
     "output_type": "execute_result"
    }
   ],
   "source": [
    "new_data.shape"
   ]
  },
  {
   "cell_type": "code",
   "execution_count": 20,
   "metadata": {},
   "outputs": [
    {
     "data": {
      "text/html": [
       "<div>\n",
       "<style scoped>\n",
       "    .dataframe tbody tr th:only-of-type {\n",
       "        vertical-align: middle;\n",
       "    }\n",
       "\n",
       "    .dataframe tbody tr th {\n",
       "        vertical-align: top;\n",
       "    }\n",
       "\n",
       "    .dataframe thead th {\n",
       "        text-align: right;\n",
       "    }\n",
       "</style>\n",
       "<table border=\"1\" class=\"dataframe\">\n",
       "  <thead>\n",
       "    <tr style=\"text-align: right;\">\n",
       "      <th></th>\n",
       "      <th>Borough</th>\n",
       "      <th>Latitude</th>\n",
       "      <th>Longitude</th>\n",
       "      <th>Population</th>\n",
       "      <th>Male</th>\n",
       "      <th>Female</th>\n",
       "    </tr>\n",
       "  </thead>\n",
       "  <tbody>\n",
       "    <tr>\n",
       "      <th>0</th>\n",
       "      <td>Çatalca</td>\n",
       "      <td>41.302761</td>\n",
       "      <td>28.384248</td>\n",
       "      <td>72.966</td>\n",
       "      <td>%51,63</td>\n",
       "      <td>%48,37</td>\n",
       "    </tr>\n",
       "    <tr>\n",
       "      <th>1</th>\n",
       "      <td>Çekmeköy</td>\n",
       "      <td>41.079035</td>\n",
       "      <td>29.260164</td>\n",
       "      <td>251.937</td>\n",
       "      <td>%50,15</td>\n",
       "      <td>%49,85</td>\n",
       "    </tr>\n",
       "    <tr>\n",
       "      <th>2</th>\n",
       "      <td>Adalar</td>\n",
       "      <td>40.866249</td>\n",
       "      <td>29.058751</td>\n",
       "      <td>16.119</td>\n",
       "      <td>%53,37</td>\n",
       "      <td>%46,63</td>\n",
       "    </tr>\n",
       "    <tr>\n",
       "      <th>3</th>\n",
       "      <td>Ümraniye</td>\n",
       "      <td>41.039030</td>\n",
       "      <td>29.129102</td>\n",
       "      <td>690.193</td>\n",
       "      <td>%50,06</td>\n",
       "      <td>%49,94</td>\n",
       "    </tr>\n",
       "    <tr>\n",
       "      <th>4</th>\n",
       "      <td>Üsküdar</td>\n",
       "      <td>41.157230</td>\n",
       "      <td>28.571349</td>\n",
       "      <td>529.145</td>\n",
       "      <td>%48,73</td>\n",
       "      <td>%51,27</td>\n",
       "    </tr>\n",
       "    <tr>\n",
       "      <th>5</th>\n",
       "      <td>Arnavutköy</td>\n",
       "      <td>41.237003</td>\n",
       "      <td>28.691689</td>\n",
       "      <td>270.549</td>\n",
       "      <td>%51,99</td>\n",
       "      <td>%48,01</td>\n",
       "    </tr>\n",
       "    <tr>\n",
       "      <th>6</th>\n",
       "      <td>Ataşehir</td>\n",
       "      <td>41.000820</td>\n",
       "      <td>29.128503</td>\n",
       "      <td>416.318</td>\n",
       "      <td>%48,93</td>\n",
       "      <td>%51,07</td>\n",
       "    </tr>\n",
       "    <tr>\n",
       "      <th>7</th>\n",
       "      <td>Avcılar</td>\n",
       "      <td>41.032429</td>\n",
       "      <td>28.727993</td>\n",
       "      <td>435.625</td>\n",
       "      <td>%49,96</td>\n",
       "      <td>%50,04</td>\n",
       "    </tr>\n",
       "    <tr>\n",
       "      <th>8</th>\n",
       "      <td>Şişli</td>\n",
       "      <td>41.095581</td>\n",
       "      <td>28.988744</td>\n",
       "      <td>274.289</td>\n",
       "      <td>%48,67</td>\n",
       "      <td>%51,33</td>\n",
       "    </tr>\n",
       "    <tr>\n",
       "      <th>9</th>\n",
       "      <td>Şile</td>\n",
       "      <td>41.110001</td>\n",
       "      <td>29.606633</td>\n",
       "      <td>36.516</td>\n",
       "      <td>%51,50</td>\n",
       "      <td>%48,50</td>\n",
       "    </tr>\n",
       "    <tr>\n",
       "      <th>10</th>\n",
       "      <td>Büyükçekmece</td>\n",
       "      <td>41.050030</td>\n",
       "      <td>28.537505</td>\n",
       "      <td>247.736</td>\n",
       "      <td>%49,55</td>\n",
       "      <td>%50,45</td>\n",
       "    </tr>\n",
       "    <tr>\n",
       "      <th>11</th>\n",
       "      <td>Bağcılar</td>\n",
       "      <td>41.047117</td>\n",
       "      <td>28.840071</td>\n",
       "      <td>734.369</td>\n",
       "      <td>%50,70</td>\n",
       "      <td>%49,30</td>\n",
       "    </tr>\n",
       "    <tr>\n",
       "      <th>12</th>\n",
       "      <td>Bahçelievler</td>\n",
       "      <td>41.013857</td>\n",
       "      <td>28.837940</td>\n",
       "      <td>594.053</td>\n",
       "      <td>%50,19</td>\n",
       "      <td>%49,81</td>\n",
       "    </tr>\n",
       "    <tr>\n",
       "      <th>13</th>\n",
       "      <td>Bakırköy</td>\n",
       "      <td>40.982445</td>\n",
       "      <td>28.822385</td>\n",
       "      <td>222.668</td>\n",
       "      <td>%46,56</td>\n",
       "      <td>%53,44</td>\n",
       "    </tr>\n",
       "    <tr>\n",
       "      <th>14</th>\n",
       "      <td>Başakşehir</td>\n",
       "      <td>41.099737</td>\n",
       "      <td>28.760093</td>\n",
       "      <td>427.835</td>\n",
       "      <td>%50,41</td>\n",
       "      <td>%49,59</td>\n",
       "    </tr>\n",
       "    <tr>\n",
       "      <th>15</th>\n",
       "      <td>Bayrampaşa</td>\n",
       "      <td>41.057999</td>\n",
       "      <td>28.895801</td>\n",
       "      <td>271.073</td>\n",
       "      <td>%50,14</td>\n",
       "      <td>%49,86</td>\n",
       "    </tr>\n",
       "    <tr>\n",
       "      <th>16</th>\n",
       "      <td>Beşiktaş</td>\n",
       "      <td>41.070747</td>\n",
       "      <td>29.021066</td>\n",
       "      <td>181.074</td>\n",
       "      <td>%45,73</td>\n",
       "      <td>%54,27</td>\n",
       "    </tr>\n",
       "    <tr>\n",
       "      <th>17</th>\n",
       "      <td>Beykoz</td>\n",
       "      <td>41.143291</td>\n",
       "      <td>29.214669</td>\n",
       "      <td>246.700</td>\n",
       "      <td>%49,50</td>\n",
       "      <td>%50,50</td>\n",
       "    </tr>\n",
       "    <tr>\n",
       "      <th>18</th>\n",
       "      <td>Beylikdüzü</td>\n",
       "      <td>40.990078</td>\n",
       "      <td>28.648150</td>\n",
       "      <td>331.525</td>\n",
       "      <td>%48,83</td>\n",
       "      <td>%51,17</td>\n",
       "    </tr>\n",
       "    <tr>\n",
       "      <th>19</th>\n",
       "      <td>Beyoğlu</td>\n",
       "      <td>41.040211</td>\n",
       "      <td>28.966792</td>\n",
       "      <td>230.526</td>\n",
       "      <td>%51,31</td>\n",
       "      <td>%48,69</td>\n",
       "    </tr>\n",
       "    <tr>\n",
       "      <th>20</th>\n",
       "      <td>Esenler</td>\n",
       "      <td>41.063173</td>\n",
       "      <td>28.864680</td>\n",
       "      <td>444.561</td>\n",
       "      <td>%51,16</td>\n",
       "      <td>%48,84</td>\n",
       "    </tr>\n",
       "    <tr>\n",
       "      <th>21</th>\n",
       "      <td>Esenyurt</td>\n",
       "      <td>41.049681</td>\n",
       "      <td>28.674332</td>\n",
       "      <td>891.120</td>\n",
       "      <td>%51,23</td>\n",
       "      <td>%48,77</td>\n",
       "    </tr>\n",
       "    <tr>\n",
       "      <th>22</th>\n",
       "      <td>Eyüpsultan</td>\n",
       "      <td>41.165157</td>\n",
       "      <td>28.891356</td>\n",
       "      <td>383.909</td>\n",
       "      <td>%50,00</td>\n",
       "      <td>%50,00</td>\n",
       "    </tr>\n",
       "    <tr>\n",
       "      <th>23</th>\n",
       "      <td>Fatih</td>\n",
       "      <td>41.015833</td>\n",
       "      <td>28.948515</td>\n",
       "      <td>436.539</td>\n",
       "      <td>%50,65</td>\n",
       "      <td>%49,35</td>\n",
       "    </tr>\n",
       "    <tr>\n",
       "      <th>24</th>\n",
       "      <td>Güngören</td>\n",
       "      <td>41.024130</td>\n",
       "      <td>28.874270</td>\n",
       "      <td>289.331</td>\n",
       "      <td>%50,44</td>\n",
       "      <td>%49,56</td>\n",
       "    </tr>\n",
       "    <tr>\n",
       "      <th>25</th>\n",
       "      <td>Gaziosmanpaşa</td>\n",
       "      <td>41.073460</td>\n",
       "      <td>28.902994</td>\n",
       "      <td>487.046</td>\n",
       "      <td>%50,20</td>\n",
       "      <td>%49,80</td>\n",
       "    </tr>\n",
       "    <tr>\n",
       "      <th>26</th>\n",
       "      <td>Küçükçekmece</td>\n",
       "      <td>41.026489</td>\n",
       "      <td>28.780925</td>\n",
       "      <td>770.317</td>\n",
       "      <td>%50,00</td>\n",
       "      <td>%50,00</td>\n",
       "    </tr>\n",
       "    <tr>\n",
       "      <th>27</th>\n",
       "      <td>Kağıthane</td>\n",
       "      <td>41.078743</td>\n",
       "      <td>28.965152</td>\n",
       "      <td>437.026</td>\n",
       "      <td>%50,36</td>\n",
       "      <td>%49,64</td>\n",
       "    </tr>\n",
       "    <tr>\n",
       "      <th>28</th>\n",
       "      <td>Kadıköy</td>\n",
       "      <td>40.996927</td>\n",
       "      <td>29.052033</td>\n",
       "      <td>458.638</td>\n",
       "      <td>%45,15</td>\n",
       "      <td>%54,85</td>\n",
       "    </tr>\n",
       "    <tr>\n",
       "      <th>29</th>\n",
       "      <td>Kartal</td>\n",
       "      <td>40.933113</td>\n",
       "      <td>29.172101</td>\n",
       "      <td>461.155</td>\n",
       "      <td>%49,45</td>\n",
       "      <td>%50,55</td>\n",
       "    </tr>\n",
       "    <tr>\n",
       "      <th>30</th>\n",
       "      <td>Maltepe</td>\n",
       "      <td>40.967037</td>\n",
       "      <td>29.125406</td>\n",
       "      <td>497.034</td>\n",
       "      <td>%49,90</td>\n",
       "      <td>%50,10</td>\n",
       "    </tr>\n",
       "    <tr>\n",
       "      <th>31</th>\n",
       "      <td>Pendik</td>\n",
       "      <td>40.961180</td>\n",
       "      <td>29.334546</td>\n",
       "      <td>693.599</td>\n",
       "      <td>%50,50</td>\n",
       "      <td>%49,50</td>\n",
       "    </tr>\n",
       "    <tr>\n",
       "      <th>32</th>\n",
       "      <td>Sancaktepe</td>\n",
       "      <td>41.016169</td>\n",
       "      <td>29.254937</td>\n",
       "      <td>414.143</td>\n",
       "      <td>%50,75</td>\n",
       "      <td>%49,25</td>\n",
       "    </tr>\n",
       "    <tr>\n",
       "      <th>33</th>\n",
       "      <td>Sarıyer</td>\n",
       "      <td>41.172670</td>\n",
       "      <td>29.033916</td>\n",
       "      <td>342.503</td>\n",
       "      <td>%49,43</td>\n",
       "      <td>%50,57</td>\n",
       "    </tr>\n",
       "    <tr>\n",
       "      <th>34</th>\n",
       "      <td>Sultanbeyli</td>\n",
       "      <td>40.985119</td>\n",
       "      <td>29.262158</td>\n",
       "      <td>327.798</td>\n",
       "      <td>%51,18</td>\n",
       "      <td>%48,82</td>\n",
       "    </tr>\n",
       "    <tr>\n",
       "      <th>35</th>\n",
       "      <td>Sultangazi</td>\n",
       "      <td>41.119114</td>\n",
       "      <td>28.880093</td>\n",
       "      <td>523.765</td>\n",
       "      <td>%50,91</td>\n",
       "      <td>%49,09</td>\n",
       "    </tr>\n",
       "    <tr>\n",
       "      <th>36</th>\n",
       "      <td>Tuzla</td>\n",
       "      <td>40.918980</td>\n",
       "      <td>29.342224</td>\n",
       "      <td>255.468</td>\n",
       "      <td>%51,03</td>\n",
       "      <td>%48,97</td>\n",
       "    </tr>\n",
       "    <tr>\n",
       "      <th>37</th>\n",
       "      <td>Zeytinburnu</td>\n",
       "      <td>41.008221</td>\n",
       "      <td>28.900549</td>\n",
       "      <td>284.935</td>\n",
       "      <td>%49,85</td>\n",
       "      <td>%50,15</td>\n",
       "    </tr>\n",
       "  </tbody>\n",
       "</table>\n",
       "</div>"
      ],
      "text/plain": [
       "          Borough   Latitude  Longitude  Population    Male  Female\n",
       "0         Çatalca  41.302761  28.384248      72.966  %51,63  %48,37\n",
       "1        Çekmeköy  41.079035  29.260164     251.937  %50,15  %49,85\n",
       "2          Adalar  40.866249  29.058751      16.119  %53,37  %46,63\n",
       "3        Ümraniye  41.039030  29.129102     690.193  %50,06  %49,94\n",
       "4         Üsküdar  41.157230  28.571349     529.145  %48,73  %51,27\n",
       "5      Arnavutköy  41.237003  28.691689     270.549  %51,99  %48,01\n",
       "6        Ataşehir  41.000820  29.128503     416.318  %48,93  %51,07\n",
       "7         Avcılar  41.032429  28.727993     435.625  %49,96  %50,04\n",
       "8           Şişli  41.095581  28.988744     274.289  %48,67  %51,33\n",
       "9            Şile  41.110001  29.606633      36.516  %51,50  %48,50\n",
       "10   Büyükçekmece  41.050030  28.537505     247.736  %49,55  %50,45\n",
       "11       Bağcılar  41.047117  28.840071     734.369  %50,70  %49,30\n",
       "12   Bahçelievler  41.013857  28.837940     594.053  %50,19  %49,81\n",
       "13       Bakırköy  40.982445  28.822385     222.668  %46,56  %53,44\n",
       "14     Başakşehir  41.099737  28.760093     427.835  %50,41  %49,59\n",
       "15     Bayrampaşa  41.057999  28.895801     271.073  %50,14  %49,86\n",
       "16       Beşiktaş  41.070747  29.021066     181.074  %45,73  %54,27\n",
       "17         Beykoz  41.143291  29.214669     246.700  %49,50  %50,50\n",
       "18     Beylikdüzü  40.990078  28.648150     331.525  %48,83  %51,17\n",
       "19        Beyoğlu  41.040211  28.966792     230.526  %51,31  %48,69\n",
       "20        Esenler  41.063173  28.864680     444.561  %51,16  %48,84\n",
       "21       Esenyurt  41.049681  28.674332     891.120  %51,23  %48,77\n",
       "22     Eyüpsultan  41.165157  28.891356     383.909  %50,00  %50,00\n",
       "23          Fatih  41.015833  28.948515     436.539  %50,65  %49,35\n",
       "24       Güngören  41.024130  28.874270     289.331  %50,44  %49,56\n",
       "25  Gaziosmanpaşa  41.073460  28.902994     487.046  %50,20  %49,80\n",
       "26   Küçükçekmece  41.026489  28.780925     770.317  %50,00  %50,00\n",
       "27      Kağıthane  41.078743  28.965152     437.026  %50,36  %49,64\n",
       "28        Kadıköy  40.996927  29.052033     458.638  %45,15  %54,85\n",
       "29         Kartal  40.933113  29.172101     461.155  %49,45  %50,55\n",
       "30        Maltepe  40.967037  29.125406     497.034  %49,90  %50,10\n",
       "31         Pendik  40.961180  29.334546     693.599  %50,50  %49,50\n",
       "32     Sancaktepe  41.016169  29.254937     414.143  %50,75  %49,25\n",
       "33        Sarıyer  41.172670  29.033916     342.503  %49,43  %50,57\n",
       "34    Sultanbeyli  40.985119  29.262158     327.798  %51,18  %48,82\n",
       "35     Sultangazi  41.119114  28.880093     523.765  %50,91  %49,09\n",
       "36          Tuzla  40.918980  29.342224     255.468  %51,03  %48,97\n",
       "37    Zeytinburnu  41.008221  28.900549     284.935  %49,85  %50,15"
      ]
     },
     "execution_count": 20,
     "metadata": {},
     "output_type": "execute_result"
    }
   ],
   "source": [
    "new_data"
   ]
  },
  {
   "cell_type": "markdown",
   "metadata": {},
   "source": [
    "\n",
    "\n",
    "## Get Venues in Each Borough with GoogleMapsAPI\n",
    "\n"
   ]
  },
  {
   "cell_type": "markdown",
   "metadata": {},
   "source": [
    "\n",
    "With the GoogleMaps Place API, the getVenuesgoogle () function was created to find restaurants in all districts of Istanbul, 1 km from district centers. With the keyword parameter given to this function, each district was questioned separately for vegetarian and vegan restaurants.\n",
    "\n"
   ]
  },
  {
   "cell_type": "code",
   "execution_count": 21,
   "metadata": {},
   "outputs": [],
   "source": [
    "def getVenuesgoogle(names, latitudes, longitudes, keyword, radius=1000):\n",
    "    \n",
    "    venues_list=[]\n",
    "    for name, lat, lng in zip(names, latitudes, longitudes):     \n",
    "        \n",
    "        url = \"https://maps.googleapis.com/maps/api/place/nearbysearch/json?location={},{}&radius={}&type=restaurant&keyword={}&key={}\".format(\n",
    "            lat,\n",
    "            lng,\n",
    "            radius,\n",
    "            keyword,\n",
    "            google_api_key)\n",
    "        \n",
    "        response = requests.get(url)\n",
    "        json_data = json.loads(response.text)\n",
    "        features=json_data['results']\n",
    "    \n",
    "        venues_list.append([(\n",
    "            name, \n",
    "            lat, \n",
    "            lng, \n",
    "            f['name'], \n",
    "            f['geometry']['location']['lat'], \n",
    "            f['geometry']['location']['lng']) for f in features])\n",
    "\n",
    "    \n",
    "    nearby_venues = pd.DataFrame([item for venue_list in venues_list for item in venue_list])\n",
    "    nearby_venues.columns = ['Borough', \n",
    "                  'Latitude', \n",
    "                  'Longitude', \n",
    "                  'Venue', \n",
    "                  'Venue Latitude', \n",
    "                  'Venue Longitude']\n",
    "    \n",
    "    return(nearby_venues) "
   ]
  },
  {
   "cell_type": "code",
   "execution_count": 22,
   "metadata": {},
   "outputs": [],
   "source": [
    "ist_vegetarian_venues = getVenuesgoogle(names=new_data['Borough'],\n",
    "                                   latitudes=new_data['Latitude'],\n",
    "                                   longitudes=new_data['Longitude'], keyword = 'vegeterian')"
   ]
  },
  {
   "cell_type": "code",
   "execution_count": 23,
   "metadata": {},
   "outputs": [
    {
     "data": {
      "text/plain": [
       "(197, 6)"
      ]
     },
     "execution_count": 23,
     "metadata": {},
     "output_type": "execute_result"
    }
   ],
   "source": [
    "ist_vegetarian_venues.shape"
   ]
  },
  {
   "cell_type": "code",
   "execution_count": 24,
   "metadata": {},
   "outputs": [
    {
     "data": {
      "text/html": [
       "<div>\n",
       "<style scoped>\n",
       "    .dataframe tbody tr th:only-of-type {\n",
       "        vertical-align: middle;\n",
       "    }\n",
       "\n",
       "    .dataframe tbody tr th {\n",
       "        vertical-align: top;\n",
       "    }\n",
       "\n",
       "    .dataframe thead th {\n",
       "        text-align: right;\n",
       "    }\n",
       "</style>\n",
       "<table border=\"1\" class=\"dataframe\">\n",
       "  <thead>\n",
       "    <tr style=\"text-align: right;\">\n",
       "      <th></th>\n",
       "      <th>Borough</th>\n",
       "      <th>Latitude</th>\n",
       "      <th>Longitude</th>\n",
       "      <th>Venue</th>\n",
       "      <th>Venue Latitude</th>\n",
       "      <th>Venue Longitude</th>\n",
       "    </tr>\n",
       "  </thead>\n",
       "  <tbody>\n",
       "    <tr>\n",
       "      <th>0</th>\n",
       "      <td>Ümraniye</td>\n",
       "      <td>41.039030</td>\n",
       "      <td>29.129102</td>\n",
       "      <td>Arşiv Türk Mutfağı</td>\n",
       "      <td>41.027887</td>\n",
       "      <td>29.115766</td>\n",
       "    </tr>\n",
       "    <tr>\n",
       "      <th>1</th>\n",
       "      <td>Arnavutköy</td>\n",
       "      <td>41.237003</td>\n",
       "      <td>28.691689</td>\n",
       "      <td>Doğa Kır Lokantası</td>\n",
       "      <td>41.233052</td>\n",
       "      <td>28.700637</td>\n",
       "    </tr>\n",
       "    <tr>\n",
       "      <th>2</th>\n",
       "      <td>Ataşehir</td>\n",
       "      <td>41.000820</td>\n",
       "      <td>29.128503</td>\n",
       "      <td>Tandoori Indian Restaurant</td>\n",
       "      <td>40.992404</td>\n",
       "      <td>29.118991</td>\n",
       "    </tr>\n",
       "    <tr>\n",
       "      <th>3</th>\n",
       "      <td>Ataşehir</td>\n",
       "      <td>41.000820</td>\n",
       "      <td>29.128503</td>\n",
       "      <td>ORA Atasehir</td>\n",
       "      <td>40.992605</td>\n",
       "      <td>29.121568</td>\n",
       "    </tr>\n",
       "    <tr>\n",
       "      <th>4</th>\n",
       "      <td>Ataşehir</td>\n",
       "      <td>41.000820</td>\n",
       "      <td>29.128503</td>\n",
       "      <td>kazandibi</td>\n",
       "      <td>41.002190</td>\n",
       "      <td>29.127087</td>\n",
       "    </tr>\n",
       "  </tbody>\n",
       "</table>\n",
       "</div>"
      ],
      "text/plain": [
       "      Borough   Latitude  Longitude                       Venue  \\\n",
       "0    Ümraniye  41.039030  29.129102          Arşiv Türk Mutfağı   \n",
       "1  Arnavutköy  41.237003  28.691689          Doğa Kır Lokantası   \n",
       "2    Ataşehir  41.000820  29.128503  Tandoori Indian Restaurant   \n",
       "3    Ataşehir  41.000820  29.128503                ORA Atasehir   \n",
       "4    Ataşehir  41.000820  29.128503                   kazandibi   \n",
       "\n",
       "   Venue Latitude  Venue Longitude  \n",
       "0       41.027887        29.115766  \n",
       "1       41.233052        28.700637  \n",
       "2       40.992404        29.118991  \n",
       "3       40.992605        29.121568  \n",
       "4       41.002190        29.127087  "
      ]
     },
     "execution_count": 24,
     "metadata": {},
     "output_type": "execute_result"
    }
   ],
   "source": [
    "ist_vegetarian_venues.head()"
   ]
  },
  {
   "cell_type": "code",
   "execution_count": 25,
   "metadata": {},
   "outputs": [],
   "source": [
    "ist_vegan_venues = getVenuesgoogle(names=new_data['Borough'],\n",
    "                                   latitudes=new_data['Latitude'],\n",
    "                                   longitudes=new_data['Longitude'], keyword = 'vegan')"
   ]
  },
  {
   "cell_type": "code",
   "execution_count": 26,
   "metadata": {},
   "outputs": [
    {
     "data": {
      "text/plain": [
       "(34, 6)"
      ]
     },
     "execution_count": 26,
     "metadata": {},
     "output_type": "execute_result"
    }
   ],
   "source": [
    "ist_vegan_venues.shape"
   ]
  },
  {
   "cell_type": "code",
   "execution_count": 27,
   "metadata": {},
   "outputs": [
    {
     "data": {
      "text/html": [
       "<div>\n",
       "<style scoped>\n",
       "    .dataframe tbody tr th:only-of-type {\n",
       "        vertical-align: middle;\n",
       "    }\n",
       "\n",
       "    .dataframe tbody tr th {\n",
       "        vertical-align: top;\n",
       "    }\n",
       "\n",
       "    .dataframe thead th {\n",
       "        text-align: right;\n",
       "    }\n",
       "</style>\n",
       "<table border=\"1\" class=\"dataframe\">\n",
       "  <thead>\n",
       "    <tr style=\"text-align: right;\">\n",
       "      <th></th>\n",
       "      <th>Borough</th>\n",
       "      <th>Latitude</th>\n",
       "      <th>Longitude</th>\n",
       "      <th>Venue</th>\n",
       "      <th>Venue Latitude</th>\n",
       "      <th>Venue Longitude</th>\n",
       "    </tr>\n",
       "  </thead>\n",
       "  <tbody>\n",
       "    <tr>\n",
       "      <th>0</th>\n",
       "      <td>Ataşehir</td>\n",
       "      <td>41.000820</td>\n",
       "      <td>29.128503</td>\n",
       "      <td>Tandoori Indian Restaurant</td>\n",
       "      <td>40.992404</td>\n",
       "      <td>29.118991</td>\n",
       "    </tr>\n",
       "    <tr>\n",
       "      <th>1</th>\n",
       "      <td>Ataşehir</td>\n",
       "      <td>41.000820</td>\n",
       "      <td>29.128503</td>\n",
       "      <td>Komagene</td>\n",
       "      <td>40.992252</td>\n",
       "      <td>29.117143</td>\n",
       "    </tr>\n",
       "    <tr>\n",
       "      <th>2</th>\n",
       "      <td>Ataşehir</td>\n",
       "      <td>41.000820</td>\n",
       "      <td>29.128503</td>\n",
       "      <td>Tatlises Cig Kofte</td>\n",
       "      <td>40.992088</td>\n",
       "      <td>29.119278</td>\n",
       "    </tr>\n",
       "    <tr>\n",
       "      <th>3</th>\n",
       "      <td>Ataşehir</td>\n",
       "      <td>41.000820</td>\n",
       "      <td>29.128503</td>\n",
       "      <td>Komagene</td>\n",
       "      <td>41.010686</td>\n",
       "      <td>29.140526</td>\n",
       "    </tr>\n",
       "    <tr>\n",
       "      <th>4</th>\n",
       "      <td>Bahçelievler</td>\n",
       "      <td>41.013857</td>\n",
       "      <td>28.837940</td>\n",
       "      <td>Komagene</td>\n",
       "      <td>41.005814</td>\n",
       "      <td>28.841443</td>\n",
       "    </tr>\n",
       "  </tbody>\n",
       "</table>\n",
       "</div>"
      ],
      "text/plain": [
       "        Borough   Latitude  Longitude                       Venue  \\\n",
       "0      Ataşehir  41.000820  29.128503  Tandoori Indian Restaurant   \n",
       "1      Ataşehir  41.000820  29.128503                    Komagene   \n",
       "2      Ataşehir  41.000820  29.128503          Tatlises Cig Kofte   \n",
       "3      Ataşehir  41.000820  29.128503                    Komagene   \n",
       "4  Bahçelievler  41.013857  28.837940                    Komagene   \n",
       "\n",
       "   Venue Latitude  Venue Longitude  \n",
       "0       40.992404        29.118991  \n",
       "1       40.992252        29.117143  \n",
       "2       40.992088        29.119278  \n",
       "3       41.010686        29.140526  \n",
       "4       41.005814        28.841443  "
      ]
     },
     "execution_count": 27,
     "metadata": {},
     "output_type": "execute_result"
    }
   ],
   "source": [
    "ist_vegan_venues.head()"
   ]
  },
  {
   "cell_type": "markdown",
   "metadata": {},
   "source": [
    "\n",
    "Data from vegetarian and vegan restaurants combined.\n",
    "\n",
    "ist_veg_venues = ist_vegetarian_venues + ist_vegan_venues\n"
   ]
  },
  {
   "cell_type": "code",
   "execution_count": 28,
   "metadata": {},
   "outputs": [],
   "source": [
    "ist_veg_venues = pd.concat([ist_vegetarian_venues, ist_vegan_venues]).drop_duplicates('Venue Latitude').reset_index(drop=True)"
   ]
  },
  {
   "cell_type": "code",
   "execution_count": 29,
   "metadata": {},
   "outputs": [
    {
     "data": {
      "text/plain": [
       "(218, 6)"
      ]
     },
     "execution_count": 29,
     "metadata": {},
     "output_type": "execute_result"
    }
   ],
   "source": [
    "ist_veg_venues.shape"
   ]
  },
  {
   "cell_type": "code",
   "execution_count": 30,
   "metadata": {},
   "outputs": [
    {
     "data": {
      "text/html": [
       "<div>\n",
       "<style scoped>\n",
       "    .dataframe tbody tr th:only-of-type {\n",
       "        vertical-align: middle;\n",
       "    }\n",
       "\n",
       "    .dataframe tbody tr th {\n",
       "        vertical-align: top;\n",
       "    }\n",
       "\n",
       "    .dataframe thead th {\n",
       "        text-align: right;\n",
       "    }\n",
       "</style>\n",
       "<table border=\"1\" class=\"dataframe\">\n",
       "  <thead>\n",
       "    <tr style=\"text-align: right;\">\n",
       "      <th></th>\n",
       "      <th>Borough</th>\n",
       "      <th>Latitude</th>\n",
       "      <th>Longitude</th>\n",
       "      <th>Venue</th>\n",
       "      <th>Venue Latitude</th>\n",
       "      <th>Venue Longitude</th>\n",
       "    </tr>\n",
       "  </thead>\n",
       "  <tbody>\n",
       "    <tr>\n",
       "      <th>0</th>\n",
       "      <td>Ümraniye</td>\n",
       "      <td>41.039030</td>\n",
       "      <td>29.129102</td>\n",
       "      <td>Arşiv Türk Mutfağı</td>\n",
       "      <td>41.027887</td>\n",
       "      <td>29.115766</td>\n",
       "    </tr>\n",
       "    <tr>\n",
       "      <th>1</th>\n",
       "      <td>Arnavutköy</td>\n",
       "      <td>41.237003</td>\n",
       "      <td>28.691689</td>\n",
       "      <td>Doğa Kır Lokantası</td>\n",
       "      <td>41.233052</td>\n",
       "      <td>28.700637</td>\n",
       "    </tr>\n",
       "    <tr>\n",
       "      <th>2</th>\n",
       "      <td>Ataşehir</td>\n",
       "      <td>41.000820</td>\n",
       "      <td>29.128503</td>\n",
       "      <td>Tandoori Indian Restaurant</td>\n",
       "      <td>40.992404</td>\n",
       "      <td>29.118991</td>\n",
       "    </tr>\n",
       "    <tr>\n",
       "      <th>3</th>\n",
       "      <td>Ataşehir</td>\n",
       "      <td>41.000820</td>\n",
       "      <td>29.128503</td>\n",
       "      <td>ORA Atasehir</td>\n",
       "      <td>40.992605</td>\n",
       "      <td>29.121568</td>\n",
       "    </tr>\n",
       "    <tr>\n",
       "      <th>4</th>\n",
       "      <td>Ataşehir</td>\n",
       "      <td>41.000820</td>\n",
       "      <td>29.128503</td>\n",
       "      <td>kazandibi</td>\n",
       "      <td>41.002190</td>\n",
       "      <td>29.127087</td>\n",
       "    </tr>\n",
       "  </tbody>\n",
       "</table>\n",
       "</div>"
      ],
      "text/plain": [
       "      Borough   Latitude  Longitude                       Venue  \\\n",
       "0    Ümraniye  41.039030  29.129102          Arşiv Türk Mutfağı   \n",
       "1  Arnavutköy  41.237003  28.691689          Doğa Kır Lokantası   \n",
       "2    Ataşehir  41.000820  29.128503  Tandoori Indian Restaurant   \n",
       "3    Ataşehir  41.000820  29.128503                ORA Atasehir   \n",
       "4    Ataşehir  41.000820  29.128503                   kazandibi   \n",
       "\n",
       "   Venue Latitude  Venue Longitude  \n",
       "0       41.027887        29.115766  \n",
       "1       41.233052        28.700637  \n",
       "2       40.992404        29.118991  \n",
       "3       40.992605        29.121568  \n",
       "4       41.002190        29.127087  "
      ]
     },
     "execution_count": 30,
     "metadata": {},
     "output_type": "execute_result"
    }
   ],
   "source": [
    "ist_veg_venues.head()"
   ]
  },
  {
   "cell_type": "code",
   "execution_count": 31,
   "metadata": {
    "scrolled": true
   },
   "outputs": [
    {
     "data": {
      "text/html": [
       "<div style=\"width:100%;\"><div style=\"position:relative;width:100%;height:0;padding-bottom:60%;\"><iframe src=\"data:text/html;charset=utf-8;base64,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\" style=\"position:absolute;width:100%;height:100%;left:0;top:0;border:none !important;\" allowfullscreen webkitallowfullscreen mozallowfullscreen></iframe></div></div>"
      ],
      "text/plain": [
       "<folium.folium.Map at 0x7fa9764a90f0>"
      ]
     },
     "execution_count": 31,
     "metadata": {},
     "output_type": "execute_result"
    }
   ],
   "source": [
    "# create a map with vegetarian and vegan venues\n",
    "\n",
    "map_ist_veg_venues = folium.Map(location=[latitude, longitude], zoom_start=10)\n",
    "\n",
    "# add markers to map\n",
    "for venue, lat, lng in zip(ist_veg_venues['Venue'], ist_veg_venues['Venue Latitude'], ist_veg_venues['Venue Longitude']):\n",
    "    label = '{}'.format(venue)\n",
    "    label = folium.Popup(label, parse_html=True)\n",
    "    folium.CircleMarker(\n",
    "        [lat, lng],\n",
    "        radius=6,\n",
    "        popup=label,\n",
    "        color='black',\n",
    "        fill=True,\n",
    "        fill_color='yellow',\n",
    "        fill_opacity=0.7,\n",
    "        parse_html=False).add_to(map_ist_veg_venues)  \n",
    "    \n",
    "map_ist_veg_venues"
   ]
  },
  {
   "cell_type": "markdown",
   "metadata": {},
   "source": [
    "\n",
    "\n",
    "## Finding Vegeterian and Vegan Restaurants in each Borough\n",
    "\n"
   ]
  },
  {
   "cell_type": "code",
   "execution_count": 32,
   "metadata": {},
   "outputs": [
    {
     "name": "stdout",
     "output_type": "stream",
     "text": [
      "Number of borough which contains Vegeterian and Vegan Restaurants are :  27\n"
     ]
    }
   ],
   "source": [
    "\n",
    "venue = ist_veg_venues.groupby('Borough').count().reset_index()\n",
    "print(\"Number of borough which contains Vegeterian and Vegan Restaurants are : \", len(venue))\n",
    "new_data['Venue Count'] = venue['Venue']\n",
    "\n",
    "new_data = new_data.fillna(0)\n",
    "\n",
    "#new_data.sort_values(by=['Venue Count'], ascending=False)"
   ]
  },
  {
   "cell_type": "code",
   "execution_count": 33,
   "metadata": {},
   "outputs": [
    {
     "data": {
      "text/plain": [
       "(38, 7)"
      ]
     },
     "execution_count": 33,
     "metadata": {},
     "output_type": "execute_result"
    }
   ],
   "source": [
    "new_data.shape"
   ]
  },
  {
   "cell_type": "code",
   "execution_count": 34,
   "metadata": {},
   "outputs": [
    {
     "data": {
      "text/html": [
       "<div>\n",
       "<style scoped>\n",
       "    .dataframe tbody tr th:only-of-type {\n",
       "        vertical-align: middle;\n",
       "    }\n",
       "\n",
       "    .dataframe tbody tr th {\n",
       "        vertical-align: top;\n",
       "    }\n",
       "\n",
       "    .dataframe thead th {\n",
       "        text-align: right;\n",
       "    }\n",
       "</style>\n",
       "<table border=\"1\" class=\"dataframe\">\n",
       "  <thead>\n",
       "    <tr style=\"text-align: right;\">\n",
       "      <th></th>\n",
       "      <th>Borough</th>\n",
       "      <th>Latitude</th>\n",
       "      <th>Longitude</th>\n",
       "      <th>Population</th>\n",
       "      <th>Male</th>\n",
       "      <th>Female</th>\n",
       "      <th>Venue Count</th>\n",
       "    </tr>\n",
       "  </thead>\n",
       "  <tbody>\n",
       "    <tr>\n",
       "      <th>0</th>\n",
       "      <td>Çatalca</td>\n",
       "      <td>41.302761</td>\n",
       "      <td>28.384248</td>\n",
       "      <td>72.966</td>\n",
       "      <td>%51,63</td>\n",
       "      <td>%48,37</td>\n",
       "      <td>1.0</td>\n",
       "    </tr>\n",
       "    <tr>\n",
       "      <th>1</th>\n",
       "      <td>Çekmeköy</td>\n",
       "      <td>41.079035</td>\n",
       "      <td>29.260164</td>\n",
       "      <td>251.937</td>\n",
       "      <td>%50,15</td>\n",
       "      <td>%49,85</td>\n",
       "      <td>20.0</td>\n",
       "    </tr>\n",
       "    <tr>\n",
       "      <th>2</th>\n",
       "      <td>Adalar</td>\n",
       "      <td>40.866249</td>\n",
       "      <td>29.058751</td>\n",
       "      <td>16.119</td>\n",
       "      <td>%53,37</td>\n",
       "      <td>%46,63</td>\n",
       "      <td>8.0</td>\n",
       "    </tr>\n",
       "    <tr>\n",
       "      <th>3</th>\n",
       "      <td>Ümraniye</td>\n",
       "      <td>41.039030</td>\n",
       "      <td>29.129102</td>\n",
       "      <td>690.193</td>\n",
       "      <td>%50,06</td>\n",
       "      <td>%49,94</td>\n",
       "      <td>1.0</td>\n",
       "    </tr>\n",
       "    <tr>\n",
       "      <th>4</th>\n",
       "      <td>Üsküdar</td>\n",
       "      <td>41.157230</td>\n",
       "      <td>28.571349</td>\n",
       "      <td>529.145</td>\n",
       "      <td>%48,73</td>\n",
       "      <td>%51,27</td>\n",
       "      <td>11.0</td>\n",
       "    </tr>\n",
       "  </tbody>\n",
       "</table>\n",
       "</div>"
      ],
      "text/plain": [
       "    Borough   Latitude  Longitude  Population    Male  Female  Venue Count\n",
       "0   Çatalca  41.302761  28.384248      72.966  %51,63  %48,37          1.0\n",
       "1  Çekmeköy  41.079035  29.260164     251.937  %50,15  %49,85         20.0\n",
       "2    Adalar  40.866249  29.058751      16.119  %53,37  %46,63          8.0\n",
       "3  Ümraniye  41.039030  29.129102     690.193  %50,06  %49,94          1.0\n",
       "4   Üsküdar  41.157230  28.571349     529.145  %48,73  %51,27         11.0"
      ]
     },
     "execution_count": 34,
     "metadata": {},
     "output_type": "execute_result"
    }
   ],
   "source": [
    "new_data.head()"
   ]
  },
  {
   "cell_type": "code",
   "execution_count": 35,
   "metadata": {},
   "outputs": [
    {
     "data": {
      "image/png": "[encoded data removed]",
      "text/plain": [
       "<Figure size 600x500 with 1 Axes>"
      ]
     },
     "metadata": {
      "needs_background": "light"
     },
     "output_type": "display_data"
    }
   ],
   "source": [
    "plt.figure(figsize=(6,5), dpi = 100)\n",
    "# title\n",
    "plt.title('Number of Vegeterian and Vegan Restaurants Resturants for each Borough in İstanbul')\n",
    "#On x-axis\n",
    "plt.xlabel('Neighborhood', fontsize = 9)\n",
    "#On y-axis\n",
    "plt.ylabel('Number of Vegeterian and Vegan Restaurants Resturants', fontsize=9)\n",
    "#giving a bar plot(\n",
    "ist_veg_venues.groupby('Borough')['Venue'].count().plot(kind='bar')\n",
    "#legend\n",
    "plt.legend()\n",
    "#displays the plot\n",
    "plt.show()"
   ]
  },
  {
   "cell_type": "markdown",
   "metadata": {},
   "source": [
    "\n",
    "\n",
    "## Analysis --- K-Means Clustering\n",
    "\n"
   ]
  },
  {
   "cell_type": "markdown",
   "metadata": {},
   "source": [
    "\n",
    "Silhouette_score was used to find the best k value.\n"
   ]
  },
  {
   "cell_type": "code",
   "execution_count": 36,
   "metadata": {},
   "outputs": [
    {
     "name": "stdout",
     "output_type": "stream",
     "text": [
      "For n_clusters=2, The Silhouette Coefficient is 0.5577802488064417\n",
      "For n_clusters=3, The Silhouette Coefficient is 0.6140303115894824\n",
      "For n_clusters=4, The Silhouette Coefficient is 0.6747169745086289\n",
      "For n_clusters=5, The Silhouette Coefficient is 0.6255347291953213\n",
      "For n_clusters=6, The Silhouette Coefficient is 0.6167575421420338\n",
      "For n_clusters=7, The Silhouette Coefficient is 0.5937530116931746\n",
      "For n_clusters=8, The Silhouette Coefficient is 0.5508853751257895\n",
      "For n_clusters=9, The Silhouette Coefficient is 0.535901894382285\n",
      "For n_clusters=10, The Silhouette Coefficient is 0.5423422958757351\n"
     ]
    }
   ],
   "source": [
    "from sklearn.metrics import silhouette_score\n",
    "\n",
    "X =  new_data[['Population', 'Venue Count']]\n",
    "\n",
    "for n_cluster in range(2, 11):\n",
    "    kmeans = KMeans(n_clusters=n_cluster).fit(X)\n",
    "    label = kmeans.labels_\n",
    "    sil_coeff = silhouette_score(X, label, metric='euclidean')\n",
    "    print(\"For n_clusters={}, The Silhouette Coefficient is {}\".format(n_cluster, sil_coeff))"
   ]
  },
  {
   "cell_type": "markdown",
   "metadata": {},
   "source": [
    "\n",
    "The best value was 4 and the number of clusters was 4.\n"
   ]
  },
  {
   "cell_type": "code",
   "execution_count": 37,
   "metadata": {},
   "outputs": [
    {
     "data": {
      "text/plain": [
       "array([0, 2, 0, 3, 1, 2, 1, 1, 2, 0], dtype=int32)"
      ]
     },
     "execution_count": 37,
     "metadata": {},
     "output_type": "execute_result"
    }
   ],
   "source": [
    "# set number of clusters\n",
    "kclusters = 4\n",
    "\n",
    "data = new_data[['Population', 'Venue Count']]\n",
    "\n",
    "# run k-means clustering\n",
    "kmeans = KMeans(n_clusters=kclusters, random_state=0).fit(data)\n",
    "\n",
    "# check cluster labels generated for each row in the dataframe\n",
    "kmeans.labels_[0:10] "
   ]
  },
  {
   "cell_type": "code",
   "execution_count": 38,
   "metadata": {},
   "outputs": [],
   "source": [
    "new_data['Cluster'] = kmeans.labels_.astype(int)"
   ]
  },
  {
   "cell_type": "code",
   "execution_count": 39,
   "metadata": {},
   "outputs": [
    {
     "data": {
      "text/html": [
       "<div>\n",
       "<style scoped>\n",
       "    .dataframe tbody tr th:only-of-type {\n",
       "        vertical-align: middle;\n",
       "    }\n",
       "\n",
       "    .dataframe tbody tr th {\n",
       "        vertical-align: top;\n",
       "    }\n",
       "\n",
       "    .dataframe thead th {\n",
       "        text-align: right;\n",
       "    }\n",
       "</style>\n",
       "<table border=\"1\" class=\"dataframe\">\n",
       "  <thead>\n",
       "    <tr style=\"text-align: right;\">\n",
       "      <th></th>\n",
       "      <th>Borough</th>\n",
       "      <th>Latitude</th>\n",
       "      <th>Longitude</th>\n",
       "      <th>Population</th>\n",
       "      <th>Male</th>\n",
       "      <th>Female</th>\n",
       "      <th>Venue Count</th>\n",
       "      <th>Cluster</th>\n",
       "    </tr>\n",
       "  </thead>\n",
       "  <tbody>\n",
       "    <tr>\n",
       "      <th>0</th>\n",
       "      <td>Çatalca</td>\n",
       "      <td>41.302761</td>\n",
       "      <td>28.384248</td>\n",
       "      <td>72.966</td>\n",
       "      <td>%51,63</td>\n",
       "      <td>%48,37</td>\n",
       "      <td>1.0</td>\n",
       "      <td>0</td>\n",
       "    </tr>\n",
       "    <tr>\n",
       "      <th>1</th>\n",
       "      <td>Çekmeköy</td>\n",
       "      <td>41.079035</td>\n",
       "      <td>29.260164</td>\n",
       "      <td>251.937</td>\n",
       "      <td>%50,15</td>\n",
       "      <td>%49,85</td>\n",
       "      <td>20.0</td>\n",
       "      <td>2</td>\n",
       "    </tr>\n",
       "    <tr>\n",
       "      <th>2</th>\n",
       "      <td>Adalar</td>\n",
       "      <td>40.866249</td>\n",
       "      <td>29.058751</td>\n",
       "      <td>16.119</td>\n",
       "      <td>%53,37</td>\n",
       "      <td>%46,63</td>\n",
       "      <td>8.0</td>\n",
       "      <td>0</td>\n",
       "    </tr>\n",
       "    <tr>\n",
       "      <th>3</th>\n",
       "      <td>Ümraniye</td>\n",
       "      <td>41.039030</td>\n",
       "      <td>29.129102</td>\n",
       "      <td>690.193</td>\n",
       "      <td>%50,06</td>\n",
       "      <td>%49,94</td>\n",
       "      <td>1.0</td>\n",
       "      <td>3</td>\n",
       "    </tr>\n",
       "    <tr>\n",
       "      <th>4</th>\n",
       "      <td>Üsküdar</td>\n",
       "      <td>41.157230</td>\n",
       "      <td>28.571349</td>\n",
       "      <td>529.145</td>\n",
       "      <td>%48,73</td>\n",
       "      <td>%51,27</td>\n",
       "      <td>11.0</td>\n",
       "      <td>1</td>\n",
       "    </tr>\n",
       "  </tbody>\n",
       "</table>\n",
       "</div>"
      ],
      "text/plain": [
       "    Borough   Latitude  Longitude  Population    Male  Female  Venue Count  \\\n",
       "0   Çatalca  41.302761  28.384248      72.966  %51,63  %48,37          1.0   \n",
       "1  Çekmeköy  41.079035  29.260164     251.937  %50,15  %49,85         20.0   \n",
       "2    Adalar  40.866249  29.058751      16.119  %53,37  %46,63          8.0   \n",
       "3  Ümraniye  41.039030  29.129102     690.193  %50,06  %49,94          1.0   \n",
       "4   Üsküdar  41.157230  28.571349     529.145  %48,73  %51,27         11.0   \n",
       "\n",
       "   Cluster  \n",
       "0        0  \n",
       "1        2  \n",
       "2        0  \n",
       "3        3  \n",
       "4        1  "
      ]
     },
     "execution_count": 39,
     "metadata": {},
     "output_type": "execute_result"
    }
   ],
   "source": [
    "new_data.head()"
   ]
  },
  {
   "cell_type": "code",
   "execution_count": 40,
   "metadata": {
    "scrolled": true
   },
   "outputs": [
    {
     "data": {
      "text/html": [
       "<div style=\"width:100%;\"><div style=\"position:relative;width:100%;height:0;padding-bottom:60%;\"><iframe src=\"data:text/html;charset=utf-8;base64,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\" style=\"position:absolute;width:100%;height:100%;left:0;top:0;border:none !important;\" allowfullscreen webkitallowfullscreen mozallowfullscreen></iframe></div></div>"
      ],
      "text/plain": [
       "<folium.folium.Map at 0x7fa976461898>"
      ]
     },
     "execution_count": 40,
     "metadata": {},
     "output_type": "execute_result"
    }
   ],
   "source": [
    "# create map\n",
    "map_clusters = folium.Map(location=[latitude, longitude], zoom_start=9)\n",
    "\n",
    "# set color scheme for the clusters\n",
    "x = np.arange(kclusters)\n",
    "ys = [i + x + (i*x)**2 for i in range(kclusters)]\n",
    "colors_array = cm.rainbow(np.linspace(0, 1, len(ys)))\n",
    "rainbow = [colors.rgb2hex(i) for i in colors_array]\n",
    "\n",
    "# add markers to the map\n",
    "markers_colors = []\n",
    "for lat, lon, poi, cluster in zip(new_data['Latitude'], new_data['Longitude'], new_data['Borough'], new_data['Cluster']):\n",
    "    label = folium.Popup(str(poi) + ' Cluster ' + str(cluster), parse_html=True)\n",
    "    folium.CircleMarker(\n",
    "        [lat, lon],\n",
    "        radius=5,\n",
    "        popup=label,\n",
    "        color=rainbow[cluster-1],\n",
    "        fill=True,\n",
    "        fill_color=rainbow[cluster-1],\n",
    "        fill_opacity=0.7).add_to(map_clusters)\n",
    "       \n",
    "map_clusters"
   ]
  },
  {
   "cell_type": "markdown",
   "metadata": {},
   "source": [
    "\n",
    "## Each cluster\n"
   ]
  },
  {
   "cell_type": "code",
   "execution_count": 41,
   "metadata": {},
   "outputs": [],
   "source": [
    "cluster0 = new_data.loc[new_data['Cluster'] == 0].sort_values(by=['Population'], ascending=False)"
   ]
  },
  {
   "cell_type": "code",
   "execution_count": 42,
   "metadata": {},
   "outputs": [
    {
     "data": {
      "text/html": [
       "<div>\n",
       "<style scoped>\n",
       "    .dataframe tbody tr th:only-of-type {\n",
       "        vertical-align: middle;\n",
       "    }\n",
       "\n",
       "    .dataframe tbody tr th {\n",
       "        vertical-align: top;\n",
       "    }\n",
       "\n",
       "    .dataframe thead th {\n",
       "        text-align: right;\n",
       "    }\n",
       "</style>\n",
       "<table border=\"1\" class=\"dataframe\">\n",
       "  <thead>\n",
       "    <tr style=\"text-align: right;\">\n",
       "      <th></th>\n",
       "      <th>Borough</th>\n",
       "      <th>Latitude</th>\n",
       "      <th>Longitude</th>\n",
       "      <th>Population</th>\n",
       "      <th>Male</th>\n",
       "      <th>Female</th>\n",
       "      <th>Venue Count</th>\n",
       "      <th>Cluster</th>\n",
       "    </tr>\n",
       "  </thead>\n",
       "  <tbody>\n",
       "    <tr>\n",
       "      <th>0</th>\n",
       "      <td>Çatalca</td>\n",
       "      <td>41.302761</td>\n",
       "      <td>28.384248</td>\n",
       "      <td>72.966</td>\n",
       "      <td>%51,63</td>\n",
       "      <td>%48,37</td>\n",
       "      <td>1.0</td>\n",
       "      <td>0</td>\n",
       "    </tr>\n",
       "    <tr>\n",
       "      <th>9</th>\n",
       "      <td>Şile</td>\n",
       "      <td>41.110001</td>\n",
       "      <td>29.606633</td>\n",
       "      <td>36.516</td>\n",
       "      <td>%51,50</td>\n",
       "      <td>%48,50</td>\n",
       "      <td>21.0</td>\n",
       "      <td>0</td>\n",
       "    </tr>\n",
       "    <tr>\n",
       "      <th>2</th>\n",
       "      <td>Adalar</td>\n",
       "      <td>40.866249</td>\n",
       "      <td>29.058751</td>\n",
       "      <td>16.119</td>\n",
       "      <td>%53,37</td>\n",
       "      <td>%46,63</td>\n",
       "      <td>8.0</td>\n",
       "      <td>0</td>\n",
       "    </tr>\n",
       "  </tbody>\n",
       "</table>\n",
       "</div>"
      ],
      "text/plain": [
       "   Borough   Latitude  Longitude  Population    Male  Female  Venue Count  \\\n",
       "0  Çatalca  41.302761  28.384248      72.966  %51,63  %48,37          1.0   \n",
       "9     Şile  41.110001  29.606633      36.516  %51,50  %48,50         21.0   \n",
       "2   Adalar  40.866249  29.058751      16.119  %53,37  %46,63          8.0   \n",
       "\n",
       "   Cluster  \n",
       "0        0  \n",
       "9        0  \n",
       "2        0  "
      ]
     },
     "execution_count": 42,
     "metadata": {},
     "output_type": "execute_result"
    }
   ],
   "source": [
    "cluster0"
   ]
  },
  {
   "cell_type": "code",
   "execution_count": 43,
   "metadata": {},
   "outputs": [
    {
     "data": {
      "text/plain": [
       "30.0"
      ]
     },
     "execution_count": 43,
     "metadata": {},
     "output_type": "execute_result"
    }
   ],
   "source": [
    "cluster0['Venue Count'].sum()"
   ]
  },
  {
   "cell_type": "code",
   "execution_count": 44,
   "metadata": {},
   "outputs": [],
   "source": [
    "cluster1 = new_data.loc[new_data['Cluster'] == 1].sort_values(by=['Population'], ascending=False)"
   ]
  },
  {
   "cell_type": "code",
   "execution_count": 45,
   "metadata": {},
   "outputs": [
    {
     "data": {
      "text/html": [
       "<div>\n",
       "<style scoped>\n",
       "    .dataframe tbody tr th:only-of-type {\n",
       "        vertical-align: middle;\n",
       "    }\n",
       "\n",
       "    .dataframe tbody tr th {\n",
       "        vertical-align: top;\n",
       "    }\n",
       "\n",
       "    .dataframe thead th {\n",
       "        text-align: right;\n",
       "    }\n",
       "</style>\n",
       "<table border=\"1\" class=\"dataframe\">\n",
       "  <thead>\n",
       "    <tr style=\"text-align: right;\">\n",
       "      <th></th>\n",
       "      <th>Borough</th>\n",
       "      <th>Latitude</th>\n",
       "      <th>Longitude</th>\n",
       "      <th>Population</th>\n",
       "      <th>Male</th>\n",
       "      <th>Female</th>\n",
       "      <th>Venue Count</th>\n",
       "      <th>Cluster</th>\n",
       "    </tr>\n",
       "  </thead>\n",
       "  <tbody>\n",
       "    <tr>\n",
       "      <th>12</th>\n",
       "      <td>Bahçelievler</td>\n",
       "      <td>41.013857</td>\n",
       "      <td>28.837940</td>\n",
       "      <td>594.053</td>\n",
       "      <td>%50,19</td>\n",
       "      <td>%49,81</td>\n",
       "      <td>1.0</td>\n",
       "      <td>1</td>\n",
       "    </tr>\n",
       "    <tr>\n",
       "      <th>4</th>\n",
       "      <td>Üsküdar</td>\n",
       "      <td>41.157230</td>\n",
       "      <td>28.571349</td>\n",
       "      <td>529.145</td>\n",
       "      <td>%48,73</td>\n",
       "      <td>%51,27</td>\n",
       "      <td>11.0</td>\n",
       "      <td>1</td>\n",
       "    </tr>\n",
       "    <tr>\n",
       "      <th>35</th>\n",
       "      <td>Sultangazi</td>\n",
       "      <td>41.119114</td>\n",
       "      <td>28.880093</td>\n",
       "      <td>523.765</td>\n",
       "      <td>%50,91</td>\n",
       "      <td>%49,09</td>\n",
       "      <td>0.0</td>\n",
       "      <td>1</td>\n",
       "    </tr>\n",
       "    <tr>\n",
       "      <th>30</th>\n",
       "      <td>Maltepe</td>\n",
       "      <td>40.967037</td>\n",
       "      <td>29.125406</td>\n",
       "      <td>497.034</td>\n",
       "      <td>%49,90</td>\n",
       "      <td>%50,10</td>\n",
       "      <td>0.0</td>\n",
       "      <td>1</td>\n",
       "    </tr>\n",
       "    <tr>\n",
       "      <th>25</th>\n",
       "      <td>Gaziosmanpaşa</td>\n",
       "      <td>41.073460</td>\n",
       "      <td>28.902994</td>\n",
       "      <td>487.046</td>\n",
       "      <td>%50,20</td>\n",
       "      <td>%49,80</td>\n",
       "      <td>12.0</td>\n",
       "      <td>1</td>\n",
       "    </tr>\n",
       "    <tr>\n",
       "      <th>29</th>\n",
       "      <td>Kartal</td>\n",
       "      <td>40.933113</td>\n",
       "      <td>29.172101</td>\n",
       "      <td>461.155</td>\n",
       "      <td>%49,45</td>\n",
       "      <td>%50,55</td>\n",
       "      <td>0.0</td>\n",
       "      <td>1</td>\n",
       "    </tr>\n",
       "    <tr>\n",
       "      <th>28</th>\n",
       "      <td>Kadıköy</td>\n",
       "      <td>40.996927</td>\n",
       "      <td>29.052033</td>\n",
       "      <td>458.638</td>\n",
       "      <td>%45,15</td>\n",
       "      <td>%54,85</td>\n",
       "      <td>0.0</td>\n",
       "      <td>1</td>\n",
       "    </tr>\n",
       "    <tr>\n",
       "      <th>20</th>\n",
       "      <td>Esenler</td>\n",
       "      <td>41.063173</td>\n",
       "      <td>28.864680</td>\n",
       "      <td>444.561</td>\n",
       "      <td>%51,16</td>\n",
       "      <td>%48,84</td>\n",
       "      <td>6.0</td>\n",
       "      <td>1</td>\n",
       "    </tr>\n",
       "    <tr>\n",
       "      <th>27</th>\n",
       "      <td>Kağıthane</td>\n",
       "      <td>41.078743</td>\n",
       "      <td>28.965152</td>\n",
       "      <td>437.026</td>\n",
       "      <td>%50,36</td>\n",
       "      <td>%49,64</td>\n",
       "      <td>0.0</td>\n",
       "      <td>1</td>\n",
       "    </tr>\n",
       "    <tr>\n",
       "      <th>23</th>\n",
       "      <td>Fatih</td>\n",
       "      <td>41.015833</td>\n",
       "      <td>28.948515</td>\n",
       "      <td>436.539</td>\n",
       "      <td>%50,65</td>\n",
       "      <td>%49,35</td>\n",
       "      <td>2.0</td>\n",
       "      <td>1</td>\n",
       "    </tr>\n",
       "    <tr>\n",
       "      <th>7</th>\n",
       "      <td>Avcılar</td>\n",
       "      <td>41.032429</td>\n",
       "      <td>28.727993</td>\n",
       "      <td>435.625</td>\n",
       "      <td>%49,96</td>\n",
       "      <td>%50,04</td>\n",
       "      <td>5.0</td>\n",
       "      <td>1</td>\n",
       "    </tr>\n",
       "    <tr>\n",
       "      <th>14</th>\n",
       "      <td>Başakşehir</td>\n",
       "      <td>41.099737</td>\n",
       "      <td>28.760093</td>\n",
       "      <td>427.835</td>\n",
       "      <td>%50,41</td>\n",
       "      <td>%49,59</td>\n",
       "      <td>8.0</td>\n",
       "      <td>1</td>\n",
       "    </tr>\n",
       "    <tr>\n",
       "      <th>6</th>\n",
       "      <td>Ataşehir</td>\n",
       "      <td>41.000820</td>\n",
       "      <td>29.128503</td>\n",
       "      <td>416.318</td>\n",
       "      <td>%48,93</td>\n",
       "      <td>%51,07</td>\n",
       "      <td>1.0</td>\n",
       "      <td>1</td>\n",
       "    </tr>\n",
       "    <tr>\n",
       "      <th>32</th>\n",
       "      <td>Sancaktepe</td>\n",
       "      <td>41.016169</td>\n",
       "      <td>29.254937</td>\n",
       "      <td>414.143</td>\n",
       "      <td>%50,75</td>\n",
       "      <td>%49,25</td>\n",
       "      <td>0.0</td>\n",
       "      <td>1</td>\n",
       "    </tr>\n",
       "    <tr>\n",
       "      <th>22</th>\n",
       "      <td>Eyüpsultan</td>\n",
       "      <td>41.165157</td>\n",
       "      <td>28.891356</td>\n",
       "      <td>383.909</td>\n",
       "      <td>%50,00</td>\n",
       "      <td>%50,00</td>\n",
       "      <td>2.0</td>\n",
       "      <td>1</td>\n",
       "    </tr>\n",
       "  </tbody>\n",
       "</table>\n",
       "</div>"
      ],
      "text/plain": [
       "          Borough   Latitude  Longitude  Population    Male  Female  \\\n",
       "12   Bahçelievler  41.013857  28.837940     594.053  %50,19  %49,81   \n",
       "4         Üsküdar  41.157230  28.571349     529.145  %48,73  %51,27   \n",
       "35     Sultangazi  41.119114  28.880093     523.765  %50,91  %49,09   \n",
       "30        Maltepe  40.967037  29.125406     497.034  %49,90  %50,10   \n",
       "25  Gaziosmanpaşa  41.073460  28.902994     487.046  %50,20  %49,80   \n",
       "29         Kartal  40.933113  29.172101     461.155  %49,45  %50,55   \n",
       "28        Kadıköy  40.996927  29.052033     458.638  %45,15  %54,85   \n",
       "20        Esenler  41.063173  28.864680     444.561  %51,16  %48,84   \n",
       "27      Kağıthane  41.078743  28.965152     437.026  %50,36  %49,64   \n",
       "23          Fatih  41.015833  28.948515     436.539  %50,65  %49,35   \n",
       "7         Avcılar  41.032429  28.727993     435.625  %49,96  %50,04   \n",
       "14     Başakşehir  41.099737  28.760093     427.835  %50,41  %49,59   \n",
       "6        Ataşehir  41.000820  29.128503     416.318  %48,93  %51,07   \n",
       "32     Sancaktepe  41.016169  29.254937     414.143  %50,75  %49,25   \n",
       "22     Eyüpsultan  41.165157  28.891356     383.909  %50,00  %50,00   \n",
       "\n",
       "    Venue Count  Cluster  \n",
       "12          1.0        1  \n",
       "4          11.0        1  \n",
       "35          0.0        1  \n",
       "30          0.0        1  \n",
       "25         12.0        1  \n",
       "29          0.0        1  \n",
       "28          0.0        1  \n",
       "20          6.0        1  \n",
       "27          0.0        1  \n",
       "23          2.0        1  \n",
       "7           5.0        1  \n",
       "14          8.0        1  \n",
       "6           1.0        1  \n",
       "32          0.0        1  \n",
       "22          2.0        1  "
      ]
     },
     "execution_count": 45,
     "metadata": {},
     "output_type": "execute_result"
    }
   ],
   "source": [
    "cluster1"
   ]
  },
  {
   "cell_type": "code",
   "execution_count": 46,
   "metadata": {},
   "outputs": [
    {
     "data": {
      "text/plain": [
       "48.0"
      ]
     },
     "execution_count": 46,
     "metadata": {},
     "output_type": "execute_result"
    }
   ],
   "source": [
    "cluster1['Venue Count'].sum()"
   ]
  },
  {
   "cell_type": "code",
   "execution_count": 47,
   "metadata": {},
   "outputs": [],
   "source": [
    "cluster2 = new_data.loc[new_data['Cluster'] == 2].sort_values(by=['Population'], ascending=False)"
   ]
  },
  {
   "cell_type": "code",
   "execution_count": 48,
   "metadata": {},
   "outputs": [
    {
     "data": {
      "text/html": [
       "<div>\n",
       "<style scoped>\n",
       "    .dataframe tbody tr th:only-of-type {\n",
       "        vertical-align: middle;\n",
       "    }\n",
       "\n",
       "    .dataframe tbody tr th {\n",
       "        vertical-align: top;\n",
       "    }\n",
       "\n",
       "    .dataframe thead th {\n",
       "        text-align: right;\n",
       "    }\n",
       "</style>\n",
       "<table border=\"1\" class=\"dataframe\">\n",
       "  <thead>\n",
       "    <tr style=\"text-align: right;\">\n",
       "      <th></th>\n",
       "      <th>Borough</th>\n",
       "      <th>Latitude</th>\n",
       "      <th>Longitude</th>\n",
       "      <th>Population</th>\n",
       "      <th>Male</th>\n",
       "      <th>Female</th>\n",
       "      <th>Venue Count</th>\n",
       "      <th>Cluster</th>\n",
       "    </tr>\n",
       "  </thead>\n",
       "  <tbody>\n",
       "    <tr>\n",
       "      <th>33</th>\n",
       "      <td>Sarıyer</td>\n",
       "      <td>41.172670</td>\n",
       "      <td>29.033916</td>\n",
       "      <td>342.503</td>\n",
       "      <td>%49,43</td>\n",
       "      <td>%50,57</td>\n",
       "      <td>0.0</td>\n",
       "      <td>2</td>\n",
       "    </tr>\n",
       "    <tr>\n",
       "      <th>18</th>\n",
       "      <td>Beylikdüzü</td>\n",
       "      <td>40.990078</td>\n",
       "      <td>28.648150</td>\n",
       "      <td>331.525</td>\n",
       "      <td>%48,83</td>\n",
       "      <td>%51,17</td>\n",
       "      <td>7.0</td>\n",
       "      <td>2</td>\n",
       "    </tr>\n",
       "    <tr>\n",
       "      <th>34</th>\n",
       "      <td>Sultanbeyli</td>\n",
       "      <td>40.985119</td>\n",
       "      <td>29.262158</td>\n",
       "      <td>327.798</td>\n",
       "      <td>%51,18</td>\n",
       "      <td>%48,82</td>\n",
       "      <td>0.0</td>\n",
       "      <td>2</td>\n",
       "    </tr>\n",
       "    <tr>\n",
       "      <th>24</th>\n",
       "      <td>Güngören</td>\n",
       "      <td>41.024130</td>\n",
       "      <td>28.874270</td>\n",
       "      <td>289.331</td>\n",
       "      <td>%50,44</td>\n",
       "      <td>%49,56</td>\n",
       "      <td>1.0</td>\n",
       "      <td>2</td>\n",
       "    </tr>\n",
       "    <tr>\n",
       "      <th>37</th>\n",
       "      <td>Zeytinburnu</td>\n",
       "      <td>41.008221</td>\n",
       "      <td>28.900549</td>\n",
       "      <td>284.935</td>\n",
       "      <td>%49,85</td>\n",
       "      <td>%50,15</td>\n",
       "      <td>0.0</td>\n",
       "      <td>2</td>\n",
       "    </tr>\n",
       "    <tr>\n",
       "      <th>8</th>\n",
       "      <td>Şişli</td>\n",
       "      <td>41.095581</td>\n",
       "      <td>28.988744</td>\n",
       "      <td>274.289</td>\n",
       "      <td>%48,67</td>\n",
       "      <td>%51,33</td>\n",
       "      <td>26.0</td>\n",
       "      <td>2</td>\n",
       "    </tr>\n",
       "    <tr>\n",
       "      <th>15</th>\n",
       "      <td>Bayrampaşa</td>\n",
       "      <td>41.057999</td>\n",
       "      <td>28.895801</td>\n",
       "      <td>271.073</td>\n",
       "      <td>%50,14</td>\n",
       "      <td>%49,86</td>\n",
       "      <td>10.0</td>\n",
       "      <td>2</td>\n",
       "    </tr>\n",
       "    <tr>\n",
       "      <th>5</th>\n",
       "      <td>Arnavutköy</td>\n",
       "      <td>41.237003</td>\n",
       "      <td>28.691689</td>\n",
       "      <td>270.549</td>\n",
       "      <td>%51,99</td>\n",
       "      <td>%48,01</td>\n",
       "      <td>7.0</td>\n",
       "      <td>2</td>\n",
       "    </tr>\n",
       "    <tr>\n",
       "      <th>36</th>\n",
       "      <td>Tuzla</td>\n",
       "      <td>40.918980</td>\n",
       "      <td>29.342224</td>\n",
       "      <td>255.468</td>\n",
       "      <td>%51,03</td>\n",
       "      <td>%48,97</td>\n",
       "      <td>0.0</td>\n",
       "      <td>2</td>\n",
       "    </tr>\n",
       "    <tr>\n",
       "      <th>1</th>\n",
       "      <td>Çekmeköy</td>\n",
       "      <td>41.079035</td>\n",
       "      <td>29.260164</td>\n",
       "      <td>251.937</td>\n",
       "      <td>%50,15</td>\n",
       "      <td>%49,85</td>\n",
       "      <td>20.0</td>\n",
       "      <td>2</td>\n",
       "    </tr>\n",
       "    <tr>\n",
       "      <th>10</th>\n",
       "      <td>Büyükçekmece</td>\n",
       "      <td>41.050030</td>\n",
       "      <td>28.537505</td>\n",
       "      <td>247.736</td>\n",
       "      <td>%49,55</td>\n",
       "      <td>%50,45</td>\n",
       "      <td>10.0</td>\n",
       "      <td>2</td>\n",
       "    </tr>\n",
       "    <tr>\n",
       "      <th>17</th>\n",
       "      <td>Beykoz</td>\n",
       "      <td>41.143291</td>\n",
       "      <td>29.214669</td>\n",
       "      <td>246.700</td>\n",
       "      <td>%49,50</td>\n",
       "      <td>%50,50</td>\n",
       "      <td>2.0</td>\n",
       "      <td>2</td>\n",
       "    </tr>\n",
       "    <tr>\n",
       "      <th>19</th>\n",
       "      <td>Beyoğlu</td>\n",
       "      <td>41.040211</td>\n",
       "      <td>28.966792</td>\n",
       "      <td>230.526</td>\n",
       "      <td>%51,31</td>\n",
       "      <td>%48,69</td>\n",
       "      <td>10.0</td>\n",
       "      <td>2</td>\n",
       "    </tr>\n",
       "    <tr>\n",
       "      <th>13</th>\n",
       "      <td>Bakırköy</td>\n",
       "      <td>40.982445</td>\n",
       "      <td>28.822385</td>\n",
       "      <td>222.668</td>\n",
       "      <td>%46,56</td>\n",
       "      <td>%53,44</td>\n",
       "      <td>20.0</td>\n",
       "      <td>2</td>\n",
       "    </tr>\n",
       "    <tr>\n",
       "      <th>16</th>\n",
       "      <td>Beşiktaş</td>\n",
       "      <td>41.070747</td>\n",
       "      <td>29.021066</td>\n",
       "      <td>181.074</td>\n",
       "      <td>%45,73</td>\n",
       "      <td>%54,27</td>\n",
       "      <td>9.0</td>\n",
       "      <td>2</td>\n",
       "    </tr>\n",
       "  </tbody>\n",
       "</table>\n",
       "</div>"
      ],
      "text/plain": [
       "         Borough   Latitude  Longitude  Population    Male  Female  \\\n",
       "33       Sarıyer  41.172670  29.033916     342.503  %49,43  %50,57   \n",
       "18    Beylikdüzü  40.990078  28.648150     331.525  %48,83  %51,17   \n",
       "34   Sultanbeyli  40.985119  29.262158     327.798  %51,18  %48,82   \n",
       "24      Güngören  41.024130  28.874270     289.331  %50,44  %49,56   \n",
       "37   Zeytinburnu  41.008221  28.900549     284.935  %49,85  %50,15   \n",
       "8          Şişli  41.095581  28.988744     274.289  %48,67  %51,33   \n",
       "15    Bayrampaşa  41.057999  28.895801     271.073  %50,14  %49,86   \n",
       "5     Arnavutköy  41.237003  28.691689     270.549  %51,99  %48,01   \n",
       "36         Tuzla  40.918980  29.342224     255.468  %51,03  %48,97   \n",
       "1       Çekmeköy  41.079035  29.260164     251.937  %50,15  %49,85   \n",
       "10  Büyükçekmece  41.050030  28.537505     247.736  %49,55  %50,45   \n",
       "17        Beykoz  41.143291  29.214669     246.700  %49,50  %50,50   \n",
       "19       Beyoğlu  41.040211  28.966792     230.526  %51,31  %48,69   \n",
       "13      Bakırköy  40.982445  28.822385     222.668  %46,56  %53,44   \n",
       "16      Beşiktaş  41.070747  29.021066     181.074  %45,73  %54,27   \n",
       "\n",
       "    Venue Count  Cluster  \n",
       "33          0.0        2  \n",
       "18          7.0        2  \n",
       "34          0.0        2  \n",
       "24          1.0        2  \n",
       "37          0.0        2  \n",
       "8          26.0        2  \n",
       "15         10.0        2  \n",
       "5           7.0        2  \n",
       "36          0.0        2  \n",
       "1          20.0        2  \n",
       "10         10.0        2  \n",
       "17          2.0        2  \n",
       "19         10.0        2  \n",
       "13         20.0        2  \n",
       "16          9.0        2  "
      ]
     },
     "execution_count": 48,
     "metadata": {},
     "output_type": "execute_result"
    }
   ],
   "source": [
    "cluster2"
   ]
  },
  {
   "cell_type": "code",
   "execution_count": 49,
   "metadata": {},
   "outputs": [
    {
     "data": {
      "text/plain": [
       "122.0"
      ]
     },
     "execution_count": 49,
     "metadata": {},
     "output_type": "execute_result"
    }
   ],
   "source": [
    "cluster2['Venue Count'].sum()"
   ]
  },
  {
   "cell_type": "code",
   "execution_count": 50,
   "metadata": {},
   "outputs": [],
   "source": [
    "cluster3 = new_data.loc[new_data['Cluster'] == 3].sort_values(by=['Population'], ascending=False)"
   ]
  },
  {
   "cell_type": "code",
   "execution_count": 51,
   "metadata": {},
   "outputs": [
    {
     "data": {
      "text/html": [
       "<div>\n",
       "<style scoped>\n",
       "    .dataframe tbody tr th:only-of-type {\n",
       "        vertical-align: middle;\n",
       "    }\n",
       "\n",
       "    .dataframe tbody tr th {\n",
       "        vertical-align: top;\n",
       "    }\n",
       "\n",
       "    .dataframe thead th {\n",
       "        text-align: right;\n",
       "    }\n",
       "</style>\n",
       "<table border=\"1\" class=\"dataframe\">\n",
       "  <thead>\n",
       "    <tr style=\"text-align: right;\">\n",
       "      <th></th>\n",
       "      <th>Borough</th>\n",
       "      <th>Latitude</th>\n",
       "      <th>Longitude</th>\n",
       "      <th>Population</th>\n",
       "      <th>Male</th>\n",
       "      <th>Female</th>\n",
       "      <th>Venue Count</th>\n",
       "      <th>Cluster</th>\n",
       "    </tr>\n",
       "  </thead>\n",
       "  <tbody>\n",
       "    <tr>\n",
       "      <th>21</th>\n",
       "      <td>Esenyurt</td>\n",
       "      <td>41.049681</td>\n",
       "      <td>28.674332</td>\n",
       "      <td>891.120</td>\n",
       "      <td>%51,23</td>\n",
       "      <td>%48,77</td>\n",
       "      <td>10.0</td>\n",
       "      <td>3</td>\n",
       "    </tr>\n",
       "    <tr>\n",
       "      <th>26</th>\n",
       "      <td>Küçükçekmece</td>\n",
       "      <td>41.026489</td>\n",
       "      <td>28.780925</td>\n",
       "      <td>770.317</td>\n",
       "      <td>%50,00</td>\n",
       "      <td>%50,00</td>\n",
       "      <td>1.0</td>\n",
       "      <td>3</td>\n",
       "    </tr>\n",
       "    <tr>\n",
       "      <th>11</th>\n",
       "      <td>Bağcılar</td>\n",
       "      <td>41.047117</td>\n",
       "      <td>28.840071</td>\n",
       "      <td>734.369</td>\n",
       "      <td>%50,70</td>\n",
       "      <td>%49,30</td>\n",
       "      <td>6.0</td>\n",
       "      <td>3</td>\n",
       "    </tr>\n",
       "    <tr>\n",
       "      <th>31</th>\n",
       "      <td>Pendik</td>\n",
       "      <td>40.961180</td>\n",
       "      <td>29.334546</td>\n",
       "      <td>693.599</td>\n",
       "      <td>%50,50</td>\n",
       "      <td>%49,50</td>\n",
       "      <td>0.0</td>\n",
       "      <td>3</td>\n",
       "    </tr>\n",
       "    <tr>\n",
       "      <th>3</th>\n",
       "      <td>Ümraniye</td>\n",
       "      <td>41.039030</td>\n",
       "      <td>29.129102</td>\n",
       "      <td>690.193</td>\n",
       "      <td>%50,06</td>\n",
       "      <td>%49,94</td>\n",
       "      <td>1.0</td>\n",
       "      <td>3</td>\n",
       "    </tr>\n",
       "  </tbody>\n",
       "</table>\n",
       "</div>"
      ],
      "text/plain": [
       "         Borough   Latitude  Longitude  Population    Male  Female  \\\n",
       "21      Esenyurt  41.049681  28.674332     891.120  %51,23  %48,77   \n",
       "26  Küçükçekmece  41.026489  28.780925     770.317  %50,00  %50,00   \n",
       "11      Bağcılar  41.047117  28.840071     734.369  %50,70  %49,30   \n",
       "31        Pendik  40.961180  29.334546     693.599  %50,50  %49,50   \n",
       "3       Ümraniye  41.039030  29.129102     690.193  %50,06  %49,94   \n",
       "\n",
       "    Venue Count  Cluster  \n",
       "21         10.0        3  \n",
       "26          1.0        3  \n",
       "11          6.0        3  \n",
       "31          0.0        3  \n",
       "3           1.0        3  "
      ]
     },
     "execution_count": 51,
     "metadata": {},
     "output_type": "execute_result"
    }
   ],
   "source": [
    "cluster3"
   ]
  },
  {
   "cell_type": "code",
   "execution_count": 52,
   "metadata": {},
   "outputs": [
    {
     "data": {
      "text/plain": [
       "18.0"
      ]
     },
     "execution_count": 52,
     "metadata": {},
     "output_type": "execute_result"
    }
   ],
   "source": [
    "cluster3['Venue Count'].sum()"
   ]
  },
  {
   "cell_type": "markdown",
   "metadata": {},
   "source": [
    "\n",
    "## Results and Discussion\n"
   ]
  },
  {
   "cell_type": "markdown",
   "metadata": {},
   "source": [
    "\n",
    "By using the location information of the districts for Istanbul, we obtained vegetarian and vegan restaurants and locations of these restaurants within 1 km from each district center.\n",
    "Then, we created clusters with k-means by using the population information of Istanbul districts and the number of vegetarian and vegan restaurants in those regions.\n",
    "As a result of the experiments, we observed that 4 clusters were formed:\n",
    "\n",
    "    Cluster0: population between 16K and 72K, 30 venue\n",
    "    Cluster1: population between 181K and 342K, 48 venues\n",
    "    Cluster2: population between 383K and 594K, 121 venue\n",
    "    Cluster3: population between 690K and 891K, 18 venue\n"
   ]
  },
  {
   "cell_type": "markdown",
   "metadata": {},
   "source": [
    "\n",
    "## Conclusion\n"
   ]
  },
  {
   "cell_type": "markdown",
   "metadata": {},
   "source": [
    "Questions that can be asked after these project:\n",
    "- What is the best location in Istanbul for vegan or vegeteryan Cuisine?\n",
    "- Which areas have potential vegan or vegetarian resturant?\n",
    "- Which areas in İstanbul lack vegan or vegetarian?"
   ]
  }
 ],
 "metadata": {
  "kernelspec": {
   "display_name": "Python 3",
   "language": "python",
   "name": "python3"
  },
  "language_info": {
   "codemirror_mode": {
    "name": "ipython",
    "version": 3
   },
   "file_extension": ".py",
   "mimetype": "text/x-python",
   "name": "python",
   "nbconvert_exporter": "python",
   "pygments_lexer": "ipython3",
   "version": "3.7.3"
  }
 },
 "nbformat": 4,
 "nbformat_minor": 2
}
