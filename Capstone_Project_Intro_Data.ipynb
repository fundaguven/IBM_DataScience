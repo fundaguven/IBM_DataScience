{
 "cells": [
  {
   "cell_type": "markdown",
   "metadata": {},
   "source": [
    "#         IBM Data Science Professional Certificate Capstone Project \n",
    "\n",
    "#                              The Battle of Neighborhoods"
   ]
  },
  {
   "cell_type": "markdown",
   "metadata": {},
   "source": [
    "## Introduction: Business Problem <a name=\"introduction\"></a>"
   ]
  },
  {
   "cell_type": "markdown",
   "metadata": {},
   "source": [
    "With a population of approximately 15 million people in the metropolitan area, Istanbul is one of the world's fourth largest cities and one of the most populous cities in the world.\n",
    "\n",
    "Despite such a crowded city, vegetarian or vegan individuals may find it difficult to find vegetarian or vegan restaurants in Istanbul. Turkish food culture is predominantly meat and meat products. For this reason, vegetarianism and veganism have not yet played an important role in Turkish culture.\n",
    "    \n",
    "In this project, 38 districts of Istanbul and vegetarian and vegan restaurants were found within 1km (thought to be walking distance) from the center. At the same time, a clustering analysis was performed with k-means by using the populations of the districts of Istanbul and the information of the restaurants in these districts.\n",
    "\n",
    "The questions we want to answer at the end of the project are:\n",
    "- Which districts in Istanbul have vegetarian or vegan restaurants?\n",
    "- What are the number of restaurants by district?\n",
    "- What are the popular districts for someone who wants to open a new restaurant, taking into account district populations and restaurant numbers?"
   ]
  },
  {
   "cell_type": "markdown",
   "metadata": {},
   "source": [
    "## Data <a name=\"data\"></a>"
   ]
  },
  {
   "cell_type": "markdown",
   "metadata": {},
   "source": [
    "Based on definition of our problem, factors that will influence our decission are:\n",
    "* number of existing restaurants in the borough (vegetarian or vegan)\n",
    "* population of borough\n",
    "* which boroughs have restaurants \n",
    "\n",
    "Following data sources will be needed to extract/generate the required information:\n",
    "\n",
    "The dataset which can be reached at https://geo.nyu.edu/catalog/stanford-nj696zj1674, contains all the cities and borough lists of Turkey and information on the location of these cities and towns. \n",
    "\n",
    "Total population, female and male population percentages data of all these boroughs to the boroughs data. We can access the population data for 2018 borougs at https://www.nufusu.com/ilceleri/istanbul-ilceleri-nufusu.\n",
    "\n",
    "\n"
   ]
  },
  {
   "cell_type": "markdown",
   "metadata": {},
   "source": [
    "- Using <b>Geopy</b> web service, location information of Istanbul was obtained\n",
    "- <b>Folium</b> and districts of Istanbul, restaurants in districts and clusters obtained as a result of k-means are shown on the map\n",
    "- Population information was obtained from the website with <b>BeautifulSoup</b>\n",
    "- Restaurant information around coordinates determined with <b>GoogleMaps Place API</b>"
   ]
  }
 ],
 "metadata": {
  "kernelspec": {
   "display_name": "Python 3",
   "language": "python",
   "name": "python3"
  },
  "language_info": {
   "codemirror_mode": {
    "name": "ipython",
    "version": 3
   },
   "file_extension": ".py",
   "mimetype": "text/x-python",
   "name": "python",
   "nbconvert_exporter": "python",
   "pygments_lexer": "ipython3",
   "version": "3.6.8"
  }
 },
 "nbformat": 4,
 "nbformat_minor": 2
}
